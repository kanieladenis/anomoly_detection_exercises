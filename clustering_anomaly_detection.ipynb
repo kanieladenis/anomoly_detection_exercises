{
 "cells": [
  {
   "cell_type": "markdown",
   "id": "f7fa0c6e",
   "metadata": {},
   "source": [
    "# Anomoly Detection with Clustering Exercises"
   ]
  },
  {
   "cell_type": "code",
   "execution_count": 1,
   "id": "55db6d94",
   "metadata": {},
   "outputs": [],
   "source": [
    "import warnings\n",
    "warnings.filterwarnings(\"ignore\")\n",
    "\n",
    "import os\n",
    "import matplotlib.pyplot as plt\n",
    "import seaborn as sns\n",
    "import numpy as np\n",
    "import pandas as pd\n",
    "\n",
    "# DBSCAN import\n",
    "from sklearn.cluster import DBSCAN\n",
    "\n",
    "# Scaler import\n",
    "from sklearn.preprocessing import MinMaxScaler\n",
    "\n",
    "import env"
   ]
  },
  {
   "cell_type": "code",
   "execution_count": 4,
   "id": "72c25649",
   "metadata": {},
   "outputs": [],
   "source": [
    "url = f'mysql+pymysql://{env.user}:{env.password}@{env.host}/curriculum_logs'\n",
    "sql = '''\n",
    "    SELECT logs.date,\n",
    "    logs.time,\n",
    "    logs.user_id, \n",
    "    logs.path as endpoint, \n",
    "    logs.ip as source_ip,\n",
    "    logs.cohort_id, \n",
    "    cohorts.name as cohort_name, \n",
    "    cohorts.start_date as cohort_start,\n",
    "    cohorts.end_date as cohort_end, \n",
    "    cohorts.program_id\n",
    "    FROM logs\n",
    "    LEFT JOIN cohorts on cohorts.id=logs.cohort_id\n",
    "    '''"
   ]
  },
  {
   "cell_type": "code",
   "execution_count": 5,
   "id": "7bc17b11",
   "metadata": {},
   "outputs": [
    {
     "data": {
      "text/html": [
       "<div>\n",
       "<style scoped>\n",
       "    .dataframe tbody tr th:only-of-type {\n",
       "        vertical-align: middle;\n",
       "    }\n",
       "\n",
       "    .dataframe tbody tr th {\n",
       "        vertical-align: top;\n",
       "    }\n",
       "\n",
       "    .dataframe thead th {\n",
       "        text-align: right;\n",
       "    }\n",
       "</style>\n",
       "<table border=\"1\" class=\"dataframe\">\n",
       "  <thead>\n",
       "    <tr style=\"text-align: right;\">\n",
       "      <th></th>\n",
       "      <th>date</th>\n",
       "      <th>time</th>\n",
       "      <th>user_id</th>\n",
       "      <th>endpoint</th>\n",
       "      <th>source_ip</th>\n",
       "      <th>cohort_id</th>\n",
       "      <th>cohort_name</th>\n",
       "      <th>cohort_start</th>\n",
       "      <th>cohort_end</th>\n",
       "      <th>program_id</th>\n",
       "    </tr>\n",
       "  </thead>\n",
       "  <tbody>\n",
       "    <tr>\n",
       "      <th>0</th>\n",
       "      <td>2018-01-26</td>\n",
       "      <td>09:55:03</td>\n",
       "      <td>1</td>\n",
       "      <td>/</td>\n",
       "      <td>97.105.19.61</td>\n",
       "      <td>8.0</td>\n",
       "      <td>Hampton</td>\n",
       "      <td>2015-09-22</td>\n",
       "      <td>2016-02-06</td>\n",
       "      <td>1.0</td>\n",
       "    </tr>\n",
       "    <tr>\n",
       "      <th>1</th>\n",
       "      <td>2018-01-26</td>\n",
       "      <td>09:56:02</td>\n",
       "      <td>1</td>\n",
       "      <td>java-ii</td>\n",
       "      <td>97.105.19.61</td>\n",
       "      <td>8.0</td>\n",
       "      <td>Hampton</td>\n",
       "      <td>2015-09-22</td>\n",
       "      <td>2016-02-06</td>\n",
       "      <td>1.0</td>\n",
       "    </tr>\n",
       "    <tr>\n",
       "      <th>2</th>\n",
       "      <td>2018-01-26</td>\n",
       "      <td>09:56:05</td>\n",
       "      <td>1</td>\n",
       "      <td>java-ii/object-oriented-programming</td>\n",
       "      <td>97.105.19.61</td>\n",
       "      <td>8.0</td>\n",
       "      <td>Hampton</td>\n",
       "      <td>2015-09-22</td>\n",
       "      <td>2016-02-06</td>\n",
       "      <td>1.0</td>\n",
       "    </tr>\n",
       "    <tr>\n",
       "      <th>3</th>\n",
       "      <td>2018-01-26</td>\n",
       "      <td>09:56:06</td>\n",
       "      <td>1</td>\n",
       "      <td>slides/object_oriented_programming</td>\n",
       "      <td>97.105.19.61</td>\n",
       "      <td>8.0</td>\n",
       "      <td>Hampton</td>\n",
       "      <td>2015-09-22</td>\n",
       "      <td>2016-02-06</td>\n",
       "      <td>1.0</td>\n",
       "    </tr>\n",
       "    <tr>\n",
       "      <th>4</th>\n",
       "      <td>2018-01-26</td>\n",
       "      <td>09:56:24</td>\n",
       "      <td>2</td>\n",
       "      <td>javascript-i/conditionals</td>\n",
       "      <td>97.105.19.61</td>\n",
       "      <td>22.0</td>\n",
       "      <td>Teddy</td>\n",
       "      <td>2018-01-08</td>\n",
       "      <td>2018-05-17</td>\n",
       "      <td>2.0</td>\n",
       "    </tr>\n",
       "  </tbody>\n",
       "</table>\n",
       "</div>"
      ],
      "text/plain": [
       "         date      time  user_id                             endpoint  \\\n",
       "0  2018-01-26  09:55:03        1                                    /   \n",
       "1  2018-01-26  09:56:02        1                              java-ii   \n",
       "2  2018-01-26  09:56:05        1  java-ii/object-oriented-programming   \n",
       "3  2018-01-26  09:56:06        1   slides/object_oriented_programming   \n",
       "4  2018-01-26  09:56:24        2            javascript-i/conditionals   \n",
       "\n",
       "      source_ip  cohort_id cohort_name cohort_start  cohort_end  program_id  \n",
       "0  97.105.19.61        8.0     Hampton   2015-09-22  2016-02-06         1.0  \n",
       "1  97.105.19.61        8.0     Hampton   2015-09-22  2016-02-06         1.0  \n",
       "2  97.105.19.61        8.0     Hampton   2015-09-22  2016-02-06         1.0  \n",
       "3  97.105.19.61        8.0     Hampton   2015-09-22  2016-02-06         1.0  \n",
       "4  97.105.19.61       22.0       Teddy   2018-01-08  2018-05-17         2.0  "
      ]
     },
     "execution_count": 5,
     "metadata": {},
     "output_type": "execute_result"
    }
   ],
   "source": [
    "import os\n",
    "file = 'curriculum_logs.csv'\n",
    "if os.path.isfile(file):\n",
    "    df = pd.read_csv(file, index_col=0)\n",
    "else:\n",
    "    df = pd.read_sql(sql,url)\n",
    "    df.to_csv(file)\n",
    "df.head()"
   ]
  },
  {
   "cell_type": "code",
   "execution_count": 6,
   "id": "c122fadd",
   "metadata": {},
   "outputs": [
    {
     "data": {
      "text/plain": [
       "(900223, 10)"
      ]
     },
     "execution_count": 6,
     "metadata": {},
     "output_type": "execute_result"
    }
   ],
   "source": [
    "df.shape"
   ]
  },
  {
   "cell_type": "code",
   "execution_count": null,
   "id": "a7e9617b",
   "metadata": {},
   "outputs": [],
   "source": [
    "def get_logs():\n",
    "    '''\n",
    "    '''\n",
    "    # set url and sql query to full from server\n",
    "    url = f'mysql+pymysql://{env.user}:{env.password}@{env.host}/curriculum_logs'\n",
    "    sql = '''\n",
    "        SELECT logs.date,\n",
    "        logs.time,\n",
    "        logs.user_id, \n",
    "        logs.path as endpoint, \n",
    "        logs.ip as source_ip,\n",
    "        logs.cohort_id, \n",
    "        cohorts.name as cohort_name, \n",
    "        cohorts.start_date as cohort_start,\n",
    "        cohorts.end_date as cohort_end, \n",
    "        cohorts.program_id\n",
    "        FROM logs\n",
    "        LEFT JOIN cohorts on cohorts.id=logs.cohort_id\n",
    "        '''\n",
    "    # read from file if it exist or pull a new df and write to file\n",
    "    import os\n",
    "    file = 'curriculum_logs.csv'\n",
    "    if os.path.isfile(file):\n",
    "        df = pd.read_csv(file, index_col=0)\n",
    "    else:\n",
    "        df = pd.read_sql(sql,url)\n",
    "        df.to_csv(file)\n",
    "        \n",
    "    return df"
   ]
  },
  {
   "cell_type": "code",
   "execution_count": 7,
   "id": "643a476d",
   "metadata": {},
   "outputs": [
    {
     "data": {
      "text/plain": [
       "3752"
      ]
     },
     "execution_count": 7,
     "metadata": {},
     "output_type": "execute_result"
    }
   ],
   "source": [
    "# check for dulicates\n",
    "df.duplicated().sum()"
   ]
  },
  {
   "cell_type": "code",
   "execution_count": 8,
   "id": "4cfad4aa",
   "metadata": {},
   "outputs": [
    {
     "data": {
      "text/html": [
       "<div>\n",
       "<style scoped>\n",
       "    .dataframe tbody tr th:only-of-type {\n",
       "        vertical-align: middle;\n",
       "    }\n",
       "\n",
       "    .dataframe tbody tr th {\n",
       "        vertical-align: top;\n",
       "    }\n",
       "\n",
       "    .dataframe thead th {\n",
       "        text-align: right;\n",
       "    }\n",
       "</style>\n",
       "<table border=\"1\" class=\"dataframe\">\n",
       "  <thead>\n",
       "    <tr style=\"text-align: right;\">\n",
       "      <th></th>\n",
       "      <th>date</th>\n",
       "      <th>time</th>\n",
       "      <th>user_id</th>\n",
       "      <th>endpoint</th>\n",
       "      <th>source_ip</th>\n",
       "      <th>cohort_id</th>\n",
       "      <th>cohort_name</th>\n",
       "      <th>cohort_start</th>\n",
       "      <th>cohort_end</th>\n",
       "      <th>program_id</th>\n",
       "    </tr>\n",
       "  </thead>\n",
       "  <tbody>\n",
       "    <tr>\n",
       "      <th>203</th>\n",
       "      <td>2018-01-26</td>\n",
       "      <td>13:02:29</td>\n",
       "      <td>17</td>\n",
       "      <td>appendix</td>\n",
       "      <td>12.189.101.90</td>\n",
       "      <td>21.0</td>\n",
       "      <td>Sequoia</td>\n",
       "      <td>2017-09-27</td>\n",
       "      <td>2018-02-15</td>\n",
       "      <td>2.0</td>\n",
       "    </tr>\n",
       "    <tr>\n",
       "      <th>204</th>\n",
       "      <td>2018-01-26</td>\n",
       "      <td>13:02:29</td>\n",
       "      <td>17</td>\n",
       "      <td>appendix</td>\n",
       "      <td>12.189.101.90</td>\n",
       "      <td>21.0</td>\n",
       "      <td>Sequoia</td>\n",
       "      <td>2017-09-27</td>\n",
       "      <td>2018-02-15</td>\n",
       "      <td>2.0</td>\n",
       "    </tr>\n",
       "    <tr>\n",
       "      <th>351</th>\n",
       "      <td>2018-01-26</td>\n",
       "      <td>15:51:16</td>\n",
       "      <td>42</td>\n",
       "      <td>spring/fundamentals/views</td>\n",
       "      <td>97.105.19.61</td>\n",
       "      <td>21.0</td>\n",
       "      <td>Sequoia</td>\n",
       "      <td>2017-09-27</td>\n",
       "      <td>2018-02-15</td>\n",
       "      <td>2.0</td>\n",
       "    </tr>\n",
       "    <tr>\n",
       "      <th>352</th>\n",
       "      <td>2018-01-26</td>\n",
       "      <td>15:51:16</td>\n",
       "      <td>42</td>\n",
       "      <td>spring/fundamentals/views</td>\n",
       "      <td>97.105.19.61</td>\n",
       "      <td>21.0</td>\n",
       "      <td>Sequoia</td>\n",
       "      <td>2017-09-27</td>\n",
       "      <td>2018-02-15</td>\n",
       "      <td>2.0</td>\n",
       "    </tr>\n",
       "    <tr>\n",
       "      <th>1868</th>\n",
       "      <td>2018-01-30</td>\n",
       "      <td>09:27:48</td>\n",
       "      <td>5</td>\n",
       "      <td>javascript-i/conditionals</td>\n",
       "      <td>97.105.19.61</td>\n",
       "      <td>22.0</td>\n",
       "      <td>Teddy</td>\n",
       "      <td>2018-01-08</td>\n",
       "      <td>2018-05-17</td>\n",
       "      <td>2.0</td>\n",
       "    </tr>\n",
       "  </tbody>\n",
       "</table>\n",
       "</div>"
      ],
      "text/plain": [
       "            date      time  user_id                   endpoint      source_ip  \\\n",
       "203   2018-01-26  13:02:29       17                   appendix  12.189.101.90   \n",
       "204   2018-01-26  13:02:29       17                   appendix  12.189.101.90   \n",
       "351   2018-01-26  15:51:16       42  spring/fundamentals/views   97.105.19.61   \n",
       "352   2018-01-26  15:51:16       42  spring/fundamentals/views   97.105.19.61   \n",
       "1868  2018-01-30  09:27:48        5  javascript-i/conditionals   97.105.19.61   \n",
       "\n",
       "      cohort_id cohort_name cohort_start  cohort_end  program_id  \n",
       "203        21.0     Sequoia   2017-09-27  2018-02-15         2.0  \n",
       "204        21.0     Sequoia   2017-09-27  2018-02-15         2.0  \n",
       "351        21.0     Sequoia   2017-09-27  2018-02-15         2.0  \n",
       "352        21.0     Sequoia   2017-09-27  2018-02-15         2.0  \n",
       "1868       22.0       Teddy   2018-01-08  2018-05-17         2.0  "
      ]
     },
     "execution_count": 8,
     "metadata": {},
     "output_type": "execute_result"
    }
   ],
   "source": [
    "# look at duplicated rows\n",
    "df[df.duplicated(keep=False)].head() #looks like some entries are doubled, going to keep first only"
   ]
  },
  {
   "cell_type": "code",
   "execution_count": 9,
   "id": "dc6ed52c",
   "metadata": {},
   "outputs": [
    {
     "data": {
      "text/plain": [
       "(896471, 10)"
      ]
     },
     "execution_count": 9,
     "metadata": {},
     "output_type": "execute_result"
    }
   ],
   "source": [
    "# removing duplicate rows and show shape\n",
    "df = df.drop_duplicates(keep='first')\n",
    "df.shape"
   ]
  },
  {
   "cell_type": "code",
   "execution_count": 10,
   "id": "d70ae1e2",
   "metadata": {},
   "outputs": [],
   "source": [
    "# replace blanks with\n",
    "df = df.replace('', np.nan)"
   ]
  },
  {
   "cell_type": "code",
   "execution_count": 11,
   "id": "5375f8a5",
   "metadata": {},
   "outputs": [
    {
     "data": {
      "text/plain": [
       "date                0\n",
       "time                0\n",
       "user_id             0\n",
       "endpoint            1\n",
       "source_ip           0\n",
       "cohort_id       52659\n",
       "cohort_name     52659\n",
       "cohort_start    52659\n",
       "cohort_end      52659\n",
       "program_id      52659\n",
       "dtype: int64"
      ]
     },
     "execution_count": 11,
     "metadata": {},
     "output_type": "execute_result"
    }
   ],
   "source": [
    "# check for nulls\n",
    "df.isna().sum()"
   ]
  },
  {
   "cell_type": "code",
   "execution_count": 12,
   "id": "d71b7a55",
   "metadata": {},
   "outputs": [
    {
     "data": {
      "text/plain": [
       "(843811, 10)"
      ]
     },
     "execution_count": 12,
     "metadata": {},
     "output_type": "execute_result"
    }
   ],
   "source": [
    "# drop nulls for now\n",
    "df = df.dropna()\n",
    "df.shape"
   ]
  },
  {
   "cell_type": "code",
   "execution_count": 13,
   "id": "81cffd87",
   "metadata": {},
   "outputs": [
    {
     "data": {
      "text/html": [
       "<div>\n",
       "<style scoped>\n",
       "    .dataframe tbody tr th:only-of-type {\n",
       "        vertical-align: middle;\n",
       "    }\n",
       "\n",
       "    .dataframe tbody tr th {\n",
       "        vertical-align: top;\n",
       "    }\n",
       "\n",
       "    .dataframe thead th {\n",
       "        text-align: right;\n",
       "    }\n",
       "</style>\n",
       "<table border=\"1\" class=\"dataframe\">\n",
       "  <thead>\n",
       "    <tr style=\"text-align: right;\">\n",
       "      <th></th>\n",
       "      <th>date</th>\n",
       "      <th>time</th>\n",
       "      <th>user_id</th>\n",
       "      <th>endpoint</th>\n",
       "      <th>source_ip</th>\n",
       "      <th>cohort_id</th>\n",
       "      <th>cohort_name</th>\n",
       "      <th>cohort_start</th>\n",
       "      <th>cohort_end</th>\n",
       "      <th>program_id</th>\n",
       "    </tr>\n",
       "  </thead>\n",
       "  <tbody>\n",
       "    <tr>\n",
       "      <th>0</th>\n",
       "      <td>2018-01-26</td>\n",
       "      <td>09:55:03</td>\n",
       "      <td>1</td>\n",
       "      <td>/</td>\n",
       "      <td>97.105.19.61</td>\n",
       "      <td>8.0</td>\n",
       "      <td>Hampton</td>\n",
       "      <td>2015-09-22</td>\n",
       "      <td>2016-02-06</td>\n",
       "      <td>1.0</td>\n",
       "    </tr>\n",
       "    <tr>\n",
       "      <th>1</th>\n",
       "      <td>2018-01-26</td>\n",
       "      <td>09:56:02</td>\n",
       "      <td>1</td>\n",
       "      <td>java-ii</td>\n",
       "      <td>97.105.19.61</td>\n",
       "      <td>8.0</td>\n",
       "      <td>Hampton</td>\n",
       "      <td>2015-09-22</td>\n",
       "      <td>2016-02-06</td>\n",
       "      <td>1.0</td>\n",
       "    </tr>\n",
       "    <tr>\n",
       "      <th>2</th>\n",
       "      <td>2018-01-26</td>\n",
       "      <td>09:56:05</td>\n",
       "      <td>1</td>\n",
       "      <td>java-ii/object-oriented-programming</td>\n",
       "      <td>97.105.19.61</td>\n",
       "      <td>8.0</td>\n",
       "      <td>Hampton</td>\n",
       "      <td>2015-09-22</td>\n",
       "      <td>2016-02-06</td>\n",
       "      <td>1.0</td>\n",
       "    </tr>\n",
       "    <tr>\n",
       "      <th>3</th>\n",
       "      <td>2018-01-26</td>\n",
       "      <td>09:56:06</td>\n",
       "      <td>1</td>\n",
       "      <td>slides/object_oriented_programming</td>\n",
       "      <td>97.105.19.61</td>\n",
       "      <td>8.0</td>\n",
       "      <td>Hampton</td>\n",
       "      <td>2015-09-22</td>\n",
       "      <td>2016-02-06</td>\n",
       "      <td>1.0</td>\n",
       "    </tr>\n",
       "    <tr>\n",
       "      <th>4</th>\n",
       "      <td>2018-01-26</td>\n",
       "      <td>09:56:24</td>\n",
       "      <td>2</td>\n",
       "      <td>javascript-i/conditionals</td>\n",
       "      <td>97.105.19.61</td>\n",
       "      <td>22.0</td>\n",
       "      <td>Teddy</td>\n",
       "      <td>2018-01-08</td>\n",
       "      <td>2018-05-17</td>\n",
       "      <td>2.0</td>\n",
       "    </tr>\n",
       "  </tbody>\n",
       "</table>\n",
       "</div>"
      ],
      "text/plain": [
       "         date      time  user_id                             endpoint  \\\n",
       "0  2018-01-26  09:55:03        1                                    /   \n",
       "1  2018-01-26  09:56:02        1                              java-ii   \n",
       "2  2018-01-26  09:56:05        1  java-ii/object-oriented-programming   \n",
       "3  2018-01-26  09:56:06        1   slides/object_oriented_programming   \n",
       "4  2018-01-26  09:56:24        2            javascript-i/conditionals   \n",
       "\n",
       "      source_ip  cohort_id cohort_name cohort_start  cohort_end  program_id  \n",
       "0  97.105.19.61        8.0     Hampton   2015-09-22  2016-02-06         1.0  \n",
       "1  97.105.19.61        8.0     Hampton   2015-09-22  2016-02-06         1.0  \n",
       "2  97.105.19.61        8.0     Hampton   2015-09-22  2016-02-06         1.0  \n",
       "3  97.105.19.61        8.0     Hampton   2015-09-22  2016-02-06         1.0  \n",
       "4  97.105.19.61       22.0       Teddy   2018-01-08  2018-05-17         2.0  "
      ]
     },
     "execution_count": 13,
     "metadata": {},
     "output_type": "execute_result"
    }
   ],
   "source": [
    "df.head()"
   ]
  },
  {
   "cell_type": "code",
   "execution_count": 15,
   "id": "1bba75fb",
   "metadata": {},
   "outputs": [],
   "source": [
    "# save df as df_temp\n",
    "df_temp = df.copy()"
   ]
  },
  {
   "cell_type": "code",
   "execution_count": 16,
   "id": "3e1978bd",
   "metadata": {},
   "outputs": [],
   "source": [
    "# set date column as type datetime and then set as index\n",
    "# convert date to a pandas datetime format and set as index\n",
    "df.date = pd.to_datetime(df.date)\n",
    "df = df.set_index(df.date)\n",
    "df.head()"
   ]
  },
  {
   "cell_type": "code",
   "execution_count": null,
   "id": "422d7ab0",
   "metadata": {},
   "outputs": [],
   "source": [
    "def prep_logs():\n",
    "    '''\n",
    "    This function preps df by dropping duplicates, replacing blank spaces with null, dropping nulls,\n",
    "    set date column to type timedate and then settingit as index.\n",
    "    '''\n",
    "\n",
    "    # removing duplicate rows and show shape\n",
    "    df = df.drop_duplicates(keep='first')\n",
    "\n",
    "    # replace blanks with\n",
    "    df = df.replace('', np.nan)\n",
    "\n",
    "    # drop nulls for now\n",
    "    df = df.dropna()\n",
    "\n",
    "    # set date column as type datetime and then set as index\n",
    "    # convert date to a pandas datetime format and set as index\n",
    "    df.date = pd.to_datetime(df.date)\n",
    "    df = df.set_index(df.date)\n",
    "    \n",
    "    return df"
   ]
  },
  {
   "cell_type": "code",
   "execution_count": 20,
   "id": "b79025f5",
   "metadata": {},
   "outputs": [
    {
     "data": {
      "text/html": [
       "<div>\n",
       "<style scoped>\n",
       "    .dataframe tbody tr th:only-of-type {\n",
       "        vertical-align: middle;\n",
       "    }\n",
       "\n",
       "    .dataframe tbody tr th {\n",
       "        vertical-align: top;\n",
       "    }\n",
       "\n",
       "    .dataframe thead th {\n",
       "        text-align: right;\n",
       "    }\n",
       "</style>\n",
       "<table border=\"1\" class=\"dataframe\">\n",
       "  <thead>\n",
       "    <tr style=\"text-align: right;\">\n",
       "      <th></th>\n",
       "      <th>date</th>\n",
       "      <th>time</th>\n",
       "      <th>user_id</th>\n",
       "      <th>endpoint</th>\n",
       "      <th>source_ip</th>\n",
       "      <th>cohort_id</th>\n",
       "      <th>cohort_name</th>\n",
       "      <th>cohort_start</th>\n",
       "      <th>cohort_end</th>\n",
       "      <th>program_id</th>\n",
       "    </tr>\n",
       "    <tr>\n",
       "      <th>date</th>\n",
       "      <th></th>\n",
       "      <th></th>\n",
       "      <th></th>\n",
       "      <th></th>\n",
       "      <th></th>\n",
       "      <th></th>\n",
       "      <th></th>\n",
       "      <th></th>\n",
       "      <th></th>\n",
       "      <th></th>\n",
       "    </tr>\n",
       "  </thead>\n",
       "  <tbody>\n",
       "    <tr>\n",
       "      <th>2018-01-26</th>\n",
       "      <td>2018-01-26</td>\n",
       "      <td>09:55:03</td>\n",
       "      <td>1</td>\n",
       "      <td>/</td>\n",
       "      <td>97.105.19.61</td>\n",
       "      <td>8.0</td>\n",
       "      <td>Hampton</td>\n",
       "      <td>2015-09-22</td>\n",
       "      <td>2016-02-06</td>\n",
       "      <td>1.0</td>\n",
       "    </tr>\n",
       "    <tr>\n",
       "      <th>2018-01-26</th>\n",
       "      <td>2018-01-26</td>\n",
       "      <td>09:56:02</td>\n",
       "      <td>1</td>\n",
       "      <td>java-ii</td>\n",
       "      <td>97.105.19.61</td>\n",
       "      <td>8.0</td>\n",
       "      <td>Hampton</td>\n",
       "      <td>2015-09-22</td>\n",
       "      <td>2016-02-06</td>\n",
       "      <td>1.0</td>\n",
       "    </tr>\n",
       "    <tr>\n",
       "      <th>2018-01-26</th>\n",
       "      <td>2018-01-26</td>\n",
       "      <td>09:56:05</td>\n",
       "      <td>1</td>\n",
       "      <td>java-ii/object-oriented-programming</td>\n",
       "      <td>97.105.19.61</td>\n",
       "      <td>8.0</td>\n",
       "      <td>Hampton</td>\n",
       "      <td>2015-09-22</td>\n",
       "      <td>2016-02-06</td>\n",
       "      <td>1.0</td>\n",
       "    </tr>\n",
       "    <tr>\n",
       "      <th>2018-01-26</th>\n",
       "      <td>2018-01-26</td>\n",
       "      <td>09:56:06</td>\n",
       "      <td>1</td>\n",
       "      <td>slides/object_oriented_programming</td>\n",
       "      <td>97.105.19.61</td>\n",
       "      <td>8.0</td>\n",
       "      <td>Hampton</td>\n",
       "      <td>2015-09-22</td>\n",
       "      <td>2016-02-06</td>\n",
       "      <td>1.0</td>\n",
       "    </tr>\n",
       "    <tr>\n",
       "      <th>2018-01-26</th>\n",
       "      <td>2018-01-26</td>\n",
       "      <td>10:14:47</td>\n",
       "      <td>11</td>\n",
       "      <td>/</td>\n",
       "      <td>97.105.19.61</td>\n",
       "      <td>1.0</td>\n",
       "      <td>Arches</td>\n",
       "      <td>2014-02-04</td>\n",
       "      <td>2014-04-22</td>\n",
       "      <td>1.0</td>\n",
       "    </tr>\n",
       "  </tbody>\n",
       "</table>\n",
       "</div>"
      ],
      "text/plain": [
       "                 date      time  user_id                             endpoint  \\\n",
       "date                                                                            \n",
       "2018-01-26 2018-01-26  09:55:03        1                                    /   \n",
       "2018-01-26 2018-01-26  09:56:02        1                              java-ii   \n",
       "2018-01-26 2018-01-26  09:56:05        1  java-ii/object-oriented-programming   \n",
       "2018-01-26 2018-01-26  09:56:06        1   slides/object_oriented_programming   \n",
       "2018-01-26 2018-01-26  10:14:47       11                                    /   \n",
       "\n",
       "               source_ip  cohort_id cohort_name cohort_start  cohort_end  \\\n",
       "date                                                                       \n",
       "2018-01-26  97.105.19.61        8.0     Hampton   2015-09-22  2016-02-06   \n",
       "2018-01-26  97.105.19.61        8.0     Hampton   2015-09-22  2016-02-06   \n",
       "2018-01-26  97.105.19.61        8.0     Hampton   2015-09-22  2016-02-06   \n",
       "2018-01-26  97.105.19.61        8.0     Hampton   2015-09-22  2016-02-06   \n",
       "2018-01-26  97.105.19.61        1.0      Arches   2014-02-04  2014-04-22   \n",
       "\n",
       "            program_id  \n",
       "date                    \n",
       "2018-01-26         1.0  \n",
       "2018-01-26         1.0  \n",
       "2018-01-26         1.0  \n",
       "2018-01-26         1.0  \n",
       "2018-01-26         1.0  "
      ]
     },
     "execution_count": 20,
     "metadata": {},
     "output_type": "execute_result"
    }
   ],
   "source": [
    "# filter by only logs accessed after graduation\n",
    "df_after_grade = df[df.index > df.cohort_end]\n",
    "df_after_grade.head()"
   ]
  },
  {
   "cell_type": "code",
   "execution_count": 21,
   "id": "348b23d5",
   "metadata": {},
   "outputs": [
    {
     "data": {
      "text/plain": [
       "(199057, 10)"
      ]
     },
     "execution_count": 21,
     "metadata": {},
     "output_type": "execute_result"
    }
   ],
   "source": [
    "df_after_grade.shape"
   ]
  },
  {
   "cell_type": "code",
   "execution_count": 34,
   "id": "9621270e",
   "metadata": {},
   "outputs": [
    {
     "data": {
      "text/html": [
       "<div>\n",
       "<style scoped>\n",
       "    .dataframe tbody tr th:only-of-type {\n",
       "        vertical-align: middle;\n",
       "    }\n",
       "\n",
       "    .dataframe tbody tr th {\n",
       "        vertical-align: top;\n",
       "    }\n",
       "\n",
       "    .dataframe thead th {\n",
       "        text-align: right;\n",
       "    }\n",
       "</style>\n",
       "<table border=\"1\" class=\"dataframe\">\n",
       "  <thead>\n",
       "    <tr style=\"text-align: right;\">\n",
       "      <th></th>\n",
       "      <th>count</th>\n",
       "      <th>nunique</th>\n",
       "    </tr>\n",
       "    <tr>\n",
       "      <th>user_id</th>\n",
       "      <th></th>\n",
       "      <th></th>\n",
       "    </tr>\n",
       "  </thead>\n",
       "  <tbody>\n",
       "    <tr>\n",
       "      <th>1</th>\n",
       "      <td>7399</td>\n",
       "      <td>976</td>\n",
       "    </tr>\n",
       "    <tr>\n",
       "      <th>2</th>\n",
       "      <td>1541</td>\n",
       "      <td>151</td>\n",
       "    </tr>\n",
       "    <tr>\n",
       "      <th>3</th>\n",
       "      <td>1560</td>\n",
       "      <td>169</td>\n",
       "    </tr>\n",
       "    <tr>\n",
       "      <th>4</th>\n",
       "      <td>690</td>\n",
       "      <td>143</td>\n",
       "    </tr>\n",
       "    <tr>\n",
       "      <th>5</th>\n",
       "      <td>1694</td>\n",
       "      <td>197</td>\n",
       "    </tr>\n",
       "  </tbody>\n",
       "</table>\n",
       "</div>"
      ],
      "text/plain": [
       "         count  nunique\n",
       "user_id                \n",
       "1         7399      976\n",
       "2         1541      151\n",
       "3         1560      169\n",
       "4          690      143\n",
       "5         1694      197"
      ]
     },
     "execution_count": 34,
     "metadata": {},
     "output_type": "execute_result"
    }
   ],
   "source": [
    "# create df that shows how many times a page was accessed by each student\n",
    "page_views = df.groupby(['user_id'])['endpoint'].agg(['count','nunique'])\n",
    "page_views.head()"
   ]
  },
  {
   "cell_type": "code",
   "execution_count": 35,
   "id": "cb964f17",
   "metadata": {},
   "outputs": [
    {
     "data": {
      "text/plain": [
       "(911, 2)"
      ]
     },
     "execution_count": 35,
     "metadata": {},
     "output_type": "execute_result"
    }
   ],
   "source": [
    "page_views.shape"
   ]
  },
  {
   "cell_type": "markdown",
   "id": "07d4ff4d",
   "metadata": {},
   "source": [
    "## Scale DF"
   ]
  },
  {
   "cell_type": "code",
   "execution_count": 36,
   "id": "84f0de3b",
   "metadata": {},
   "outputs": [
    {
     "data": {
      "text/plain": [
       "array([[0.41646026, 1.        ],\n",
       "       [0.08669219, 0.15384615],\n",
       "       [0.08776177, 0.17230769],\n",
       "       [0.03878631, 0.14564103],\n",
       "       [0.09530511, 0.20102564],\n",
       "       [0.07920513, 0.22974359],\n",
       "       [0.10110336, 0.17435897],\n",
       "       [0.02713353, 0.09128205],\n",
       "       [0.03287548, 0.14871795],\n",
       "       [0.05179014, 0.14666667]])"
      ]
     },
     "execution_count": 36,
     "metadata": {},
     "output_type": "execute_result"
    }
   ],
   "source": [
    "# create the scaler fit to page_views df\n",
    "scaler = MinMaxScaler().fit(page_views)\n",
    "\n",
    "# use the scaler\n",
    "page_views_scaled_array = scaler.transform(page_views)\n",
    "page_views_scaled_array[0:10]"
   ]
  },
  {
   "cell_type": "code",
   "execution_count": 37,
   "id": "c1778def",
   "metadata": {},
   "outputs": [
    {
     "name": "stdout",
     "output_type": "stream",
     "text": [
      "DBSCAN(eps=0.1, min_samples=3)\n"
     ]
    }
   ],
   "source": [
    "# create dbscan object that requires 3 points in a radius at -1 to be core point and the fit to scaled array\n",
    "dbsc = DBSCAN(eps = 0.1, min_samples=3).fit(page_views_scaled_array)\n",
    "print(dbsc)"
   ]
  },
  {
   "cell_type": "code",
   "execution_count": 38,
   "id": "b45cd207",
   "metadata": {},
   "outputs": [
    {
     "data": {
      "text/plain": [
       "['count', 'nunique']"
      ]
     },
     "execution_count": 38,
     "metadata": {},
     "output_type": "execute_result"
    }
   ],
   "source": [
    "# create column names for scaled columns \n",
    "columns = list(page_views.columns)\n",
    "columns"
   ]
  },
  {
   "cell_type": "code",
   "execution_count": 39,
   "id": "c1a757e9",
   "metadata": {},
   "outputs": [
    {
     "data": {
      "text/plain": [
       "['scaled_count', 'scaled_nunique']"
      ]
     },
     "execution_count": 39,
     "metadata": {},
     "output_type": "execute_result"
    }
   ],
   "source": [
    "# concat each column name with 'scaled'\n",
    "scaled_columns = [\"scaled_\" + column for column in columns]\n",
    "scaled_columns"
   ]
  },
  {
   "cell_type": "code",
   "execution_count": 40,
   "id": "b3c1597a",
   "metadata": {},
   "outputs": [
    {
     "data": {
      "text/html": [
       "<div>\n",
       "<style scoped>\n",
       "    .dataframe tbody tr th:only-of-type {\n",
       "        vertical-align: middle;\n",
       "    }\n",
       "\n",
       "    .dataframe tbody tr th {\n",
       "        vertical-align: top;\n",
       "    }\n",
       "\n",
       "    .dataframe thead th {\n",
       "        text-align: right;\n",
       "    }\n",
       "</style>\n",
       "<table border=\"1\" class=\"dataframe\">\n",
       "  <thead>\n",
       "    <tr style=\"text-align: right;\">\n",
       "      <th></th>\n",
       "      <th>scaled_count</th>\n",
       "      <th>scaled_nunique</th>\n",
       "    </tr>\n",
       "    <tr>\n",
       "      <th>user_id</th>\n",
       "      <th></th>\n",
       "      <th></th>\n",
       "    </tr>\n",
       "  </thead>\n",
       "  <tbody>\n",
       "    <tr>\n",
       "      <th>1</th>\n",
       "      <td>0.416460</td>\n",
       "      <td>1.000000</td>\n",
       "    </tr>\n",
       "    <tr>\n",
       "      <th>2</th>\n",
       "      <td>0.086692</td>\n",
       "      <td>0.153846</td>\n",
       "    </tr>\n",
       "    <tr>\n",
       "      <th>3</th>\n",
       "      <td>0.087762</td>\n",
       "      <td>0.172308</td>\n",
       "    </tr>\n",
       "    <tr>\n",
       "      <th>4</th>\n",
       "      <td>0.038786</td>\n",
       "      <td>0.145641</td>\n",
       "    </tr>\n",
       "    <tr>\n",
       "      <th>5</th>\n",
       "      <td>0.095305</td>\n",
       "      <td>0.201026</td>\n",
       "    </tr>\n",
       "  </tbody>\n",
       "</table>\n",
       "</div>"
      ],
      "text/plain": [
       "         scaled_count  scaled_nunique\n",
       "user_id                              \n",
       "1            0.416460        1.000000\n",
       "2            0.086692        0.153846\n",
       "3            0.087762        0.172308\n",
       "4            0.038786        0.145641\n",
       "5            0.095305        0.201026"
      ]
     },
     "execution_count": 40,
     "metadata": {},
     "output_type": "execute_result"
    }
   ],
   "source": [
    "# Create a dataframe scaled array that sets column names as scaled_columns\n",
    "scaled_df = pd.DataFrame(page_views_scaled_array, columns=scaled_columns, index=page_views.index)\n",
    "scaled_df.head()"
   ]
  },
  {
   "cell_type": "code",
   "execution_count": 41,
   "id": "ca8da20e",
   "metadata": {},
   "outputs": [
    {
     "data": {
      "text/html": [
       "<div>\n",
       "<style scoped>\n",
       "    .dataframe tbody tr th:only-of-type {\n",
       "        vertical-align: middle;\n",
       "    }\n",
       "\n",
       "    .dataframe tbody tr th {\n",
       "        vertical-align: top;\n",
       "    }\n",
       "\n",
       "    .dataframe thead th {\n",
       "        text-align: right;\n",
       "    }\n",
       "</style>\n",
       "<table border=\"1\" class=\"dataframe\">\n",
       "  <thead>\n",
       "    <tr style=\"text-align: right;\">\n",
       "      <th></th>\n",
       "      <th>count</th>\n",
       "      <th>nunique</th>\n",
       "      <th>scaled_count</th>\n",
       "      <th>scaled_nunique</th>\n",
       "    </tr>\n",
       "    <tr>\n",
       "      <th>user_id</th>\n",
       "      <th></th>\n",
       "      <th></th>\n",
       "      <th></th>\n",
       "      <th></th>\n",
       "    </tr>\n",
       "  </thead>\n",
       "  <tbody>\n",
       "    <tr>\n",
       "      <th>1</th>\n",
       "      <td>7399</td>\n",
       "      <td>976</td>\n",
       "      <td>0.416460</td>\n",
       "      <td>1.000000</td>\n",
       "    </tr>\n",
       "    <tr>\n",
       "      <th>2</th>\n",
       "      <td>1541</td>\n",
       "      <td>151</td>\n",
       "      <td>0.086692</td>\n",
       "      <td>0.153846</td>\n",
       "    </tr>\n",
       "    <tr>\n",
       "      <th>3</th>\n",
       "      <td>1560</td>\n",
       "      <td>169</td>\n",
       "      <td>0.087762</td>\n",
       "      <td>0.172308</td>\n",
       "    </tr>\n",
       "    <tr>\n",
       "      <th>4</th>\n",
       "      <td>690</td>\n",
       "      <td>143</td>\n",
       "      <td>0.038786</td>\n",
       "      <td>0.145641</td>\n",
       "    </tr>\n",
       "    <tr>\n",
       "      <th>5</th>\n",
       "      <td>1694</td>\n",
       "      <td>197</td>\n",
       "      <td>0.095305</td>\n",
       "      <td>0.201026</td>\n",
       "    </tr>\n",
       "    <tr>\n",
       "      <th>...</th>\n",
       "      <td>...</td>\n",
       "      <td>...</td>\n",
       "      <td>...</td>\n",
       "      <td>...</td>\n",
       "    </tr>\n",
       "    <tr>\n",
       "      <th>977</th>\n",
       "      <td>86</td>\n",
       "      <td>12</td>\n",
       "      <td>0.004785</td>\n",
       "      <td>0.011282</td>\n",
       "    </tr>\n",
       "    <tr>\n",
       "      <th>978</th>\n",
       "      <td>55</td>\n",
       "      <td>18</td>\n",
       "      <td>0.003040</td>\n",
       "      <td>0.017436</td>\n",
       "    </tr>\n",
       "    <tr>\n",
       "      <th>979</th>\n",
       "      <td>125</td>\n",
       "      <td>20</td>\n",
       "      <td>0.006980</td>\n",
       "      <td>0.019487</td>\n",
       "    </tr>\n",
       "    <tr>\n",
       "      <th>980</th>\n",
       "      <td>3</td>\n",
       "      <td>1</td>\n",
       "      <td>0.000113</td>\n",
       "      <td>0.000000</td>\n",
       "    </tr>\n",
       "    <tr>\n",
       "      <th>981</th>\n",
       "      <td>41</td>\n",
       "      <td>9</td>\n",
       "      <td>0.002252</td>\n",
       "      <td>0.008205</td>\n",
       "    </tr>\n",
       "  </tbody>\n",
       "</table>\n",
       "<p>911 rows × 4 columns</p>\n",
       "</div>"
      ],
      "text/plain": [
       "         count  nunique  scaled_count  scaled_nunique\n",
       "user_id                                              \n",
       "1         7399      976      0.416460        1.000000\n",
       "2         1541      151      0.086692        0.153846\n",
       "3         1560      169      0.087762        0.172308\n",
       "4          690      143      0.038786        0.145641\n",
       "5         1694      197      0.095305        0.201026\n",
       "...        ...      ...           ...             ...\n",
       "977         86       12      0.004785        0.011282\n",
       "978         55       18      0.003040        0.017436\n",
       "979        125       20      0.006980        0.019487\n",
       "980          3        1      0.000113        0.000000\n",
       "981         41        9      0.002252        0.008205\n",
       "\n",
       "[911 rows x 4 columns]"
      ]
     },
     "execution_count": 41,
     "metadata": {},
     "output_type": "execute_result"
    }
   ],
   "source": [
    "# Merge the scaled and non-scaled values into one dataframe\n",
    "page_views = page_views.merge(scaled_df, left_index=True, right_index=True)\n",
    "page_views"
   ]
  },
  {
   "cell_type": "code",
   "execution_count": 46,
   "id": "f8d9db26",
   "metadata": {},
   "outputs": [
    {
     "data": {
      "text/plain": [
       "array([-1,  0,  0,  0,  0,  0,  0,  0,  0,  0, -1,  0,  0,  0,  0])"
      ]
     },
     "execution_count": 46,
     "metadata": {},
     "output_type": "execute_result"
    }
   ],
   "source": [
    "# see labels\n",
    "labels = dbsc.labels_\n",
    "labels[0:15]"
   ]
  },
  {
   "cell_type": "code",
   "execution_count": 48,
   "id": "632d82b3",
   "metadata": {},
   "outputs": [
    {
     "data": {
      "text/html": [
       "<div>\n",
       "<style scoped>\n",
       "    .dataframe tbody tr th:only-of-type {\n",
       "        vertical-align: middle;\n",
       "    }\n",
       "\n",
       "    .dataframe tbody tr th {\n",
       "        vertical-align: top;\n",
       "    }\n",
       "\n",
       "    .dataframe thead th {\n",
       "        text-align: right;\n",
       "    }\n",
       "</style>\n",
       "<table border=\"1\" class=\"dataframe\">\n",
       "  <thead>\n",
       "    <tr style=\"text-align: right;\">\n",
       "      <th></th>\n",
       "      <th>count</th>\n",
       "      <th>nunique</th>\n",
       "      <th>scaled_count</th>\n",
       "      <th>scaled_nunique</th>\n",
       "      <th>labels</th>\n",
       "    </tr>\n",
       "    <tr>\n",
       "      <th>user_id</th>\n",
       "      <th></th>\n",
       "      <th></th>\n",
       "      <th></th>\n",
       "      <th></th>\n",
       "      <th></th>\n",
       "    </tr>\n",
       "  </thead>\n",
       "  <tbody>\n",
       "    <tr>\n",
       "      <th>1</th>\n",
       "      <td>7399</td>\n",
       "      <td>976</td>\n",
       "      <td>0.416460</td>\n",
       "      <td>1.000000</td>\n",
       "      <td>-1</td>\n",
       "    </tr>\n",
       "    <tr>\n",
       "      <th>2</th>\n",
       "      <td>1541</td>\n",
       "      <td>151</td>\n",
       "      <td>0.086692</td>\n",
       "      <td>0.153846</td>\n",
       "      <td>0</td>\n",
       "    </tr>\n",
       "    <tr>\n",
       "      <th>3</th>\n",
       "      <td>1560</td>\n",
       "      <td>169</td>\n",
       "      <td>0.087762</td>\n",
       "      <td>0.172308</td>\n",
       "      <td>0</td>\n",
       "    </tr>\n",
       "    <tr>\n",
       "      <th>4</th>\n",
       "      <td>690</td>\n",
       "      <td>143</td>\n",
       "      <td>0.038786</td>\n",
       "      <td>0.145641</td>\n",
       "      <td>0</td>\n",
       "    </tr>\n",
       "    <tr>\n",
       "      <th>5</th>\n",
       "      <td>1694</td>\n",
       "      <td>197</td>\n",
       "      <td>0.095305</td>\n",
       "      <td>0.201026</td>\n",
       "      <td>0</td>\n",
       "    </tr>\n",
       "  </tbody>\n",
       "</table>\n",
       "</div>"
      ],
      "text/plain": [
       "         count  nunique  scaled_count  scaled_nunique  labels\n",
       "user_id                                                      \n",
       "1         7399      976      0.416460        1.000000      -1\n",
       "2         1541      151      0.086692        0.153846       0\n",
       "3         1560      169      0.087762        0.172308       0\n",
       "4          690      143      0.038786        0.145641       0\n",
       "5         1694      197      0.095305        0.201026       0"
      ]
     },
     "execution_count": 48,
     "metadata": {},
     "output_type": "execute_result"
    }
   ],
   "source": [
    "#add labels back to the dataframe\n",
    "page_views['labels'] = labels\n",
    "page_views.head()"
   ]
  },
  {
   "cell_type": "code",
   "execution_count": 49,
   "id": "179c1aa1",
   "metadata": {},
   "outputs": [
    {
     "data": {
      "text/plain": [
       " 0    906\n",
       "-1      5\n",
       "Name: labels, dtype: int64"
      ]
     },
     "execution_count": 49,
     "metadata": {},
     "output_type": "execute_result"
    }
   ],
   "source": [
    "# Unique labels (clusters) created by DBSCAN\n",
    "page_views.labels.value_counts()"
   ]
  },
  {
   "cell_type": "code",
   "execution_count": 91,
   "id": "f2364b36",
   "metadata": {},
   "outputs": [
    {
     "data": {
      "text/html": [
       "<div>\n",
       "<style scoped>\n",
       "    .dataframe tbody tr th:only-of-type {\n",
       "        vertical-align: middle;\n",
       "    }\n",
       "\n",
       "    .dataframe tbody tr th {\n",
       "        vertical-align: top;\n",
       "    }\n",
       "\n",
       "    .dataframe thead th {\n",
       "        text-align: right;\n",
       "    }\n",
       "</style>\n",
       "<table border=\"1\" class=\"dataframe\">\n",
       "  <thead>\n",
       "    <tr style=\"text-align: right;\">\n",
       "      <th></th>\n",
       "      <th>count</th>\n",
       "      <th>nunique</th>\n",
       "      <th>scaled_count</th>\n",
       "      <th>scaled_nunique</th>\n",
       "      <th>labels</th>\n",
       "    </tr>\n",
       "    <tr>\n",
       "      <th>user_id</th>\n",
       "      <th></th>\n",
       "      <th></th>\n",
       "      <th></th>\n",
       "      <th></th>\n",
       "      <th></th>\n",
       "    </tr>\n",
       "  </thead>\n",
       "  <tbody>\n",
       "    <tr>\n",
       "      <th>1</th>\n",
       "      <td>7399</td>\n",
       "      <td>976</td>\n",
       "      <td>0.416460</td>\n",
       "      <td>1.000000</td>\n",
       "      <td>-1</td>\n",
       "    </tr>\n",
       "    <tr>\n",
       "      <th>11</th>\n",
       "      <td>17765</td>\n",
       "      <td>871</td>\n",
       "      <td>1.000000</td>\n",
       "      <td>0.892308</td>\n",
       "      <td>-1</td>\n",
       "    </tr>\n",
       "    <tr>\n",
       "      <th>53</th>\n",
       "      <td>12312</td>\n",
       "      <td>333</td>\n",
       "      <td>0.693031</td>\n",
       "      <td>0.340513</td>\n",
       "      <td>-1</td>\n",
       "    </tr>\n",
       "    <tr>\n",
       "      <th>64</th>\n",
       "      <td>16185</td>\n",
       "      <td>436</td>\n",
       "      <td>0.911056</td>\n",
       "      <td>0.446154</td>\n",
       "      <td>-1</td>\n",
       "    </tr>\n",
       "    <tr>\n",
       "      <th>248</th>\n",
       "      <td>5071</td>\n",
       "      <td>625</td>\n",
       "      <td>0.285409</td>\n",
       "      <td>0.640000</td>\n",
       "      <td>-1</td>\n",
       "    </tr>\n",
       "    <tr>\n",
       "      <th>314</th>\n",
       "      <td>7762</td>\n",
       "      <td>225</td>\n",
       "      <td>0.436895</td>\n",
       "      <td>0.229744</td>\n",
       "      <td>-1</td>\n",
       "    </tr>\n",
       "    <tr>\n",
       "      <th>495</th>\n",
       "      <td>6430</td>\n",
       "      <td>243</td>\n",
       "      <td>0.361912</td>\n",
       "      <td>0.248205</td>\n",
       "      <td>-1</td>\n",
       "    </tr>\n",
       "    <tr>\n",
       "      <th>581</th>\n",
       "      <td>6369</td>\n",
       "      <td>354</td>\n",
       "      <td>0.358478</td>\n",
       "      <td>0.362051</td>\n",
       "      <td>-1</td>\n",
       "    </tr>\n",
       "  </tbody>\n",
       "</table>\n",
       "</div>"
      ],
      "text/plain": [
       "         count  nunique  scaled_count  scaled_nunique  labels\n",
       "user_id                                                      \n",
       "1         7399      976      0.416460        1.000000      -1\n",
       "11       17765      871      1.000000        0.892308      -1\n",
       "53       12312      333      0.693031        0.340513      -1\n",
       "64       16185      436      0.911056        0.446154      -1\n",
       "248       5071      625      0.285409        0.640000      -1\n",
       "314       7762      225      0.436895        0.229744      -1\n",
       "495       6430      243      0.361912        0.248205      -1\n",
       "581       6369      354      0.358478        0.362051      -1"
      ]
     },
     "execution_count": 91,
     "metadata": {},
     "output_type": "execute_result"
    }
   ],
   "source": [
    "page_views[page_views.labels==-1]"
   ]
  },
  {
   "cell_type": "code",
   "execution_count": 78,
   "id": "2a1a1e49",
   "metadata": {},
   "outputs": [],
   "source": [
    "def df_page_views(df, eps=.1, min_samples=3):\n",
    "    '''\n",
    "    This function filters the df, keeping only those logs that were created after graduation.\n",
    "    Df is groupby user and then endpoint is counted creating a new df page_views. \n",
    "    Page_veiws df is scaled with MinMax and fitted/trasnformed to make page_views_scaled_array an \n",
    "    array of scaled points. DBSCAN obj is fitted to the scaled array and \n",
    "    '''\n",
    "\n",
    "    # filter by only logs accessed after graduation\n",
    "    df_after_grade = df[df.index > df.cohort_end]\n",
    "\n",
    "    # create df that shows how many times a page was accessed by each student\n",
    "    page_views = df.groupby(['user_id'])['endpoint'].agg(['count','nunique'])\n",
    "\n",
    "    # create the scaler fit to page_views df\n",
    "    scaler = MinMaxScaler().fit(page_views)\n",
    "\n",
    "    # use the scaler\n",
    "    page_views_scaled_array = scaler.transform(page_views)\n",
    "\n",
    "    # create dbscan object that requires 3 points in a radius at -1 to be core point and the fit to scaled array\n",
    "    dbsc = DBSCAN(eps=eps, min_samples=min_samples).fit(page_views_scaled_array)\n",
    "\n",
    "    # create column names for scaled columns \n",
    "    columns = list(page_views.columns)\n",
    "\n",
    "    # concat each column name with 'scaled'\n",
    "    scaled_columns = [\"scaled_\" + column for column in columns]\n",
    "\n",
    "    # Create a dataframe scaled array that sets column names as scaled_columns\n",
    "    scaled_df = pd.DataFrame(page_views_scaled_array, columns=scaled_columns, index=page_views.index)\n",
    "\n",
    "    # Merge the scaled and non-scaled values into one dataframe\n",
    "    page_views = page_views.merge(scaled_df, left_index=True, right_index=True)\n",
    "\n",
    "    # see labels\n",
    "    labels = dbsc.labels_\n",
    "\n",
    "    #add labels back to the dataframe\n",
    "    page_views['labels'] = labels\n",
    "    \n",
    "    # Unique labels (clusters) created by DBSCAN\n",
    "    print(page_views.labels.value_counts())\n",
    "    \n",
    "    # plot page_views\n",
    "    plt.scatter(page_views['scaled_count'], page_views['scaled_nunique'], c=page_views.labels)\n",
    "    plt.show()\n",
    "    \n",
    "    \n",
    "\n",
    "    return page_views"
   ]
  },
  {
   "cell_type": "code",
   "execution_count": 79,
   "id": "60cfc400",
   "metadata": {},
   "outputs": [
    {
     "name": "stdout",
     "output_type": "stream",
     "text": [
      " 0    906\n",
      "-1      5\n",
      "Name: labels, dtype: int64\n"
     ]
    },
    {
     "data": {
      "image/png": "[encoded data removed]",
      "text/plain": [
       "<Figure size 432x288 with 1 Axes>"
      ]
     },
     "metadata": {
      "needs_background": "light"
     },
     "output_type": "display_data"
    },
    {
     "data": {
      "text/plain": [
       " 0    906\n",
       "-1      5\n",
       "Name: labels, dtype: int64"
      ]
     },
     "execution_count": 79,
     "metadata": {},
     "output_type": "execute_result"
    }
   ],
   "source": [
    "page_views = df_page_views(df, eps=.5, min_samples=3)\n",
    "\n",
    "# Unique labels (clusters) created by DBSCAN\n",
    "page_views.labels.value_counts()"
   ]
  },
  {
   "cell_type": "markdown",
   "id": "7352ab13",
   "metadata": {},
   "source": [
    "### Set for easiest to cluster: eps=.5 (small radius) and min_samp=3 (n+1)"
   ]
  },
  {
   "cell_type": "code",
   "execution_count": 93,
   "id": "9061f824",
   "metadata": {},
   "outputs": [
    {
     "name": "stdout",
     "output_type": "stream",
     "text": [
      "0    911\n",
      "Name: labels, dtype: int64\n"
     ]
    },
    {
     "data": {
      "image/png": "[encoded data removed]",
      "text/plain": [
       "<Figure size 432x288 with 1 Axes>"
      ]
     },
     "metadata": {
      "needs_background": "light"
     },
     "output_type": "display_data"
    },
    {
     "data": {
      "text/plain": [
       "0    911\n",
       "Name: labels, dtype: int64"
      ]
     },
     "execution_count": 93,
     "metadata": {},
     "output_type": "execute_result"
    }
   ],
   "source": [
    "page_views = df_page_views(df, eps=.5, min_samples=3)\n",
    "\n",
    "# Unique labels (clusters) created by DBSCAN\n",
    "page_views.labels.value_counts()"
   ]
  },
  {
   "cell_type": "markdown",
   "id": "e53bd5f8",
   "metadata": {},
   "source": [
    "### A little harder, eps=.4"
   ]
  },
  {
   "cell_type": "code",
   "execution_count": 94,
   "id": "d41bfa4c",
   "metadata": {},
   "outputs": [
    {
     "name": "stdout",
     "output_type": "stream",
     "text": [
      " 0    910\n",
      "-1      1\n",
      "Name: labels, dtype: int64\n"
     ]
    },
    {
     "data": {
      "image/png": "[encoded data removed]",
      "text/plain": [
       "<Figure size 432x288 with 1 Axes>"
      ]
     },
     "metadata": {
      "needs_background": "light"
     },
     "output_type": "display_data"
    },
    {
     "data": {
      "text/plain": [
       " 0    910\n",
       "-1      1\n",
       "Name: labels, dtype: int64"
      ]
     },
     "execution_count": 94,
     "metadata": {},
     "output_type": "execute_result"
    }
   ],
   "source": [
    "page_views = df_page_views(df, eps=.4, min_samples=3)\n",
    "\n",
    "# Unique labels (clusters) created by DBSCAN\n",
    "page_views.labels.value_counts()"
   ]
  },
  {
   "cell_type": "code",
   "execution_count": 95,
   "id": "7f83ad23",
   "metadata": {},
   "outputs": [
    {
     "name": "stdout",
     "output_type": "stream",
     "text": [
      " 0    909\n",
      "-1      2\n",
      "Name: labels, dtype: int64\n"
     ]
    },
    {
     "data": {
      "image/png": "[encoded data removed]",
      "text/plain": [
       "<Figure size 432x288 with 1 Axes>"
      ]
     },
     "metadata": {
      "needs_background": "light"
     },
     "output_type": "display_data"
    },
    {
     "data": {
      "text/plain": [
       " 0    909\n",
       "-1      2\n",
       "Name: labels, dtype: int64"
      ]
     },
     "execution_count": 95,
     "metadata": {},
     "output_type": "execute_result"
    }
   ],
   "source": [
    "page_views = df_page_views(df, eps=.3, min_samples=3)\n",
    "\n",
    "# Unique labels (clusters) created by DBSCAN\n",
    "page_views.labels.value_counts()"
   ]
  },
  {
   "cell_type": "code",
   "execution_count": 96,
   "id": "f2f83a23",
   "metadata": {},
   "outputs": [
    {
     "name": "stdout",
     "output_type": "stream",
     "text": [
      " 0    906\n",
      "-1      5\n",
      "Name: labels, dtype: int64\n"
     ]
    },
    {
     "data": {
      "image/png": "[encoded data removed]",
      "text/plain": [
       "<Figure size 432x288 with 1 Axes>"
      ]
     },
     "metadata": {
      "needs_background": "light"
     },
     "output_type": "display_data"
    },
    {
     "data": {
      "text/plain": [
       " 0    906\n",
       "-1      5\n",
       "Name: labels, dtype: int64"
      ]
     },
     "execution_count": 96,
     "metadata": {},
     "output_type": "execute_result"
    }
   ],
   "source": [
    "page_views = df_page_views(df, eps=.2, min_samples=3)\n",
    "\n",
    "# Unique labels (clusters) created by DBSCAN\n",
    "page_views.labels.value_counts()"
   ]
  },
  {
   "cell_type": "code",
   "execution_count": 97,
   "id": "f3cf7904",
   "metadata": {},
   "outputs": [
    {
     "name": "stdout",
     "output_type": "stream",
     "text": [
      " 0    904\n",
      "-1      7\n",
      "Name: labels, dtype: int64\n"
     ]
    },
    {
     "data": {
      "image/png": "[encoded data removed]",
      "text/plain": [
       "<Figure size 432x288 with 1 Axes>"
      ]
     },
     "metadata": {
      "needs_background": "light"
     },
     "output_type": "display_data"
    },
    {
     "data": {
      "text/plain": [
       " 0    904\n",
       "-1      7\n",
       "Name: labels, dtype: int64"
      ]
     },
     "execution_count": 97,
     "metadata": {},
     "output_type": "execute_result"
    }
   ],
   "source": [
    "page_views = df_page_views(df, eps=.1, min_samples=3)\n",
    "\n",
    "# Unique labels (clusters) created by DBSCAN\n",
    "page_views.labels.value_counts()"
   ]
  },
  {
   "cell_type": "code",
   "execution_count": 104,
   "id": "22c216b8",
   "metadata": {},
   "outputs": [
    {
     "name": "stdout",
     "output_type": "stream",
     "text": [
      " 0    902\n",
      "-1      9\n",
      "Name: labels, dtype: int64\n"
     ]
    },
    {
     "data": {
      "image/png": "[encoded data removed]",
      "text/plain": [
       "<Figure size 432x288 with 1 Axes>"
      ]
     },
     "metadata": {
      "needs_background": "light"
     },
     "output_type": "display_data"
    },
    {
     "data": {
      "text/plain": [
       " 0    902\n",
       "-1      9\n",
       "Name: labels, dtype: int64"
      ]
     },
     "execution_count": 104,
     "metadata": {},
     "output_type": "execute_result"
    }
   ],
   "source": [
    "page_views = df_page_views(df, eps=.07, min_samples=3)\n",
    "\n",
    "# Unique labels (clusters) created by DBSCAN\n",
    "page_views.labels.value_counts()"
   ]
  },
  {
   "cell_type": "code",
   "execution_count": 105,
   "id": "afc4d03e",
   "metadata": {},
   "outputs": [
    {
     "name": "stdout",
     "output_type": "stream",
     "text": [
      " 0    899\n",
      "-1     12\n",
      "Name: labels, dtype: int64\n"
     ]
    },
    {
     "data": {
      "image/png": "[encoded data removed]",
      "text/plain": [
       "<Figure size 432x288 with 1 Axes>"
      ]
     },
     "metadata": {
      "needs_background": "light"
     },
     "output_type": "display_data"
    },
    {
     "data": {
      "text/plain": [
       " 0    899\n",
       "-1     12\n",
       "Name: labels, dtype: int64"
      ]
     },
     "execution_count": 105,
     "metadata": {},
     "output_type": "execute_result"
    }
   ],
   "source": [
    "page_views = df_page_views(df, eps=.05, min_samples=3)\n",
    "\n",
    "# Unique labels (clusters) created by DBSCAN\n",
    "page_views.labels.value_counts()"
   ]
  },
  {
   "cell_type": "code",
   "execution_count": 106,
   "id": "e2faa641",
   "metadata": {},
   "outputs": [
    {
     "name": "stdout",
     "output_type": "stream",
     "text": [
      " 0    892\n",
      "-1     19\n",
      "Name: labels, dtype: int64\n"
     ]
    },
    {
     "data": {
      "image/png": "[encoded data removed]",
      "text/plain": [
       "<Figure size 432x288 with 1 Axes>"
      ]
     },
     "metadata": {
      "needs_background": "light"
     },
     "output_type": "display_data"
    },
    {
     "data": {
      "text/plain": [
       " 0    892\n",
       "-1     19\n",
       "Name: labels, dtype: int64"
      ]
     },
     "execution_count": 106,
     "metadata": {},
     "output_type": "execute_result"
    }
   ],
   "source": [
    "page_views = df_page_views(df, eps=.03, min_samples=3)\n",
    "\n",
    "# Unique labels (clusters) created by DBSCAN\n",
    "page_views.labels.value_counts()"
   ]
  },
  {
   "cell_type": "code",
   "execution_count": 107,
   "id": "5709e7df",
   "metadata": {},
   "outputs": [
    {
     "name": "stdout",
     "output_type": "stream",
     "text": [
      " 0    819\n",
      "-1     92\n",
      "Name: labels, dtype: int64\n"
     ]
    },
    {
     "data": {
      "image/png": "[encoded data removed]",
      "text/plain": [
       "<Figure size 432x288 with 1 Axes>"
      ]
     },
     "metadata": {
      "needs_background": "light"
     },
     "output_type": "display_data"
    },
    {
     "data": {
      "text/plain": [
       " 0    819\n",
       "-1     92\n",
       "Name: labels, dtype: int64"
      ]
     },
     "execution_count": 107,
     "metadata": {},
     "output_type": "execute_result"
    }
   ],
   "source": [
    "page_views = df_page_views(df, eps=.01, min_samples=3)\n",
    "\n",
    "# Unique labels (clusters) created by DBSCAN\n",
    "page_views.labels.value_counts()"
   ]
  },
  {
   "cell_type": "code",
   "execution_count": 108,
   "id": "559d9fcc",
   "metadata": {},
   "outputs": [
    {
     "name": "stdout",
     "output_type": "stream",
     "text": [
      " 0    904\n",
      "-1      7\n",
      "Name: labels, dtype: int64\n"
     ]
    },
    {
     "data": {
      "image/png": "[encoded data removed]",
      "text/plain": [
       "<Figure size 432x288 with 1 Axes>"
      ]
     },
     "metadata": {
      "needs_background": "light"
     },
     "output_type": "display_data"
    },
    {
     "data": {
      "text/plain": [
       " 0    904\n",
       "-1      7\n",
       "Name: labels, dtype: int64"
      ]
     },
     "execution_count": 108,
     "metadata": {},
     "output_type": "execute_result"
    }
   ],
   "source": [
    "page_views = df_page_views(df, eps=.1, min_samples=3)\n",
    "\n",
    "# Unique labels (clusters) created by DBSCAN\n",
    "page_views.labels.value_counts()"
   ]
  },
  {
   "cell_type": "markdown",
   "id": "8ad8370c",
   "metadata": {},
   "source": [
    "### EPS=.1 and Min_Samp=9 provides best outliers"
   ]
  },
  {
   "cell_type": "code",
   "execution_count": null,
   "id": "b312f21e",
   "metadata": {},
   "outputs": [],
   "source": []
  }
 ],
 "metadata": {
  "kernelspec": {
   "display_name": "Python 3",
   "language": "python",
   "name": "python3"
  },
  "language_info": {
   "codemirror_mode": {
    "name": "ipython",
    "version": 3
   },
   "file_extension": ".py",
   "mimetype": "text/x-python",
   "name": "python",
   "nbconvert_exporter": "python",
   "pygments_lexer": "ipython3",
   "version": "3.8.8"
  }
 },
 "nbformat": 4,
 "nbformat_minor": 5
}
