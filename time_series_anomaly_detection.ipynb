{
 "cells": [
  {
   "cell_type": "markdown",
   "id": "34e20c83",
   "metadata": {},
   "source": [
    "# Anomoly Detection with Time Series Exercies"
   ]
  },
  {
   "cell_type": "markdown",
   "id": "07ef88f3",
   "metadata": {},
   "source": [
    "## Exercises\n",
    "file name: time_series_anomaly_detection.py or time_series_anomaly_detection.ipynb\n",
    "- The dataset for these exercises lives in the Codeup Data Science MySQL Server. The database name is curriculum_logs.\n",
    "\n",
    "**Hint:** You will need to explore the database and significantly adjust your acquisition step (yay SQL!)\n",
    "\n",
    "- Label students by the program they are in.\n",
    "- Is it possible to identify the user_id of a staff member?\n",
    "- Identify students who are accessing our curriculum pages beyond the end of their time at Codeup.\n",
    "- Identify students who present anomalous activity using the Bollinger Band method, but reduce K to 2.\n",
    "- Plot the access activity of these students.\n",
    "\n",
    "**BONUS:** Identify users who are viewing both the web dev and data science curriculum"
   ]
  },
  {
   "cell_type": "code",
   "execution_count": 1,
   "id": "7d17e49c",
   "metadata": {},
   "outputs": [],
   "source": [
    "import warnings\n",
    "warnings.filterwarnings(\"ignore\")\n",
    "import matplotlib.pyplot as plt\n",
    "\n",
    "import numpy as np\n",
    "import pandas as pd\n",
    "import seaborn as sns\n",
    "import env"
   ]
  },
  {
   "cell_type": "code",
   "execution_count": 2,
   "id": "54c1b27d",
   "metadata": {},
   "outputs": [],
   "source": [
    "url = f'mysql+pymysql://{env.user}:{env.password}@{env.host}/curriculum_logs'\n",
    "sql = '''\n",
    "    SELECT logs.date,\n",
    "    logs.time,\n",
    "    logs.user_id, \n",
    "    logs.path as endpoint, \n",
    "    logs.ip as source_ip,\n",
    "    logs.cohort_id, \n",
    "    cohorts.name as cohort_name, \n",
    "    cohorts.start_date as cohort_start,\n",
    "    cohorts.end_date as cohort_end, \n",
    "    cohorts.program_id\n",
    "    FROM logs\n",
    "    LEFT JOIN cohorts on cohorts.id=logs.cohort_id\n",
    "    '''"
   ]
  },
  {
   "cell_type": "code",
   "execution_count": 3,
   "id": "7c8f1efc",
   "metadata": {},
   "outputs": [
    {
     "data": {
      "text/html": [
       "<div>\n",
       "<style scoped>\n",
       "    .dataframe tbody tr th:only-of-type {\n",
       "        vertical-align: middle;\n",
       "    }\n",
       "\n",
       "    .dataframe tbody tr th {\n",
       "        vertical-align: top;\n",
       "    }\n",
       "\n",
       "    .dataframe thead th {\n",
       "        text-align: right;\n",
       "    }\n",
       "</style>\n",
       "<table border=\"1\" class=\"dataframe\">\n",
       "  <thead>\n",
       "    <tr style=\"text-align: right;\">\n",
       "      <th></th>\n",
       "      <th>date</th>\n",
       "      <th>user_id</th>\n",
       "      <th>endpoint</th>\n",
       "      <th>source_ip</th>\n",
       "      <th>cohort_id</th>\n",
       "      <th>cohort_name</th>\n",
       "      <th>cohort_start</th>\n",
       "      <th>cohort_end</th>\n",
       "      <th>program_id</th>\n",
       "    </tr>\n",
       "  </thead>\n",
       "  <tbody>\n",
       "    <tr>\n",
       "      <th>0</th>\n",
       "      <td>2018-01-26</td>\n",
       "      <td>1</td>\n",
       "      <td>/</td>\n",
       "      <td>97.105.19.61</td>\n",
       "      <td>8.0</td>\n",
       "      <td>Hampton</td>\n",
       "      <td>2015-09-22</td>\n",
       "      <td>2016-02-06</td>\n",
       "      <td>1.0</td>\n",
       "    </tr>\n",
       "    <tr>\n",
       "      <th>1</th>\n",
       "      <td>2018-01-26</td>\n",
       "      <td>1</td>\n",
       "      <td>java-ii</td>\n",
       "      <td>97.105.19.61</td>\n",
       "      <td>8.0</td>\n",
       "      <td>Hampton</td>\n",
       "      <td>2015-09-22</td>\n",
       "      <td>2016-02-06</td>\n",
       "      <td>1.0</td>\n",
       "    </tr>\n",
       "    <tr>\n",
       "      <th>2</th>\n",
       "      <td>2018-01-26</td>\n",
       "      <td>1</td>\n",
       "      <td>java-ii/object-oriented-programming</td>\n",
       "      <td>97.105.19.61</td>\n",
       "      <td>8.0</td>\n",
       "      <td>Hampton</td>\n",
       "      <td>2015-09-22</td>\n",
       "      <td>2016-02-06</td>\n",
       "      <td>1.0</td>\n",
       "    </tr>\n",
       "    <tr>\n",
       "      <th>3</th>\n",
       "      <td>2018-01-26</td>\n",
       "      <td>1</td>\n",
       "      <td>slides/object_oriented_programming</td>\n",
       "      <td>97.105.19.61</td>\n",
       "      <td>8.0</td>\n",
       "      <td>Hampton</td>\n",
       "      <td>2015-09-22</td>\n",
       "      <td>2016-02-06</td>\n",
       "      <td>1.0</td>\n",
       "    </tr>\n",
       "    <tr>\n",
       "      <th>4</th>\n",
       "      <td>2018-01-26</td>\n",
       "      <td>2</td>\n",
       "      <td>javascript-i/conditionals</td>\n",
       "      <td>97.105.19.61</td>\n",
       "      <td>22.0</td>\n",
       "      <td>Teddy</td>\n",
       "      <td>2018-01-08</td>\n",
       "      <td>2018-05-17</td>\n",
       "      <td>2.0</td>\n",
       "    </tr>\n",
       "  </tbody>\n",
       "</table>\n",
       "</div>"
      ],
      "text/plain": [
       "         date  user_id                             endpoint     source_ip  \\\n",
       "0  2018-01-26        1                                    /  97.105.19.61   \n",
       "1  2018-01-26        1                              java-ii  97.105.19.61   \n",
       "2  2018-01-26        1  java-ii/object-oriented-programming  97.105.19.61   \n",
       "3  2018-01-26        1   slides/object_oriented_programming  97.105.19.61   \n",
       "4  2018-01-26        2            javascript-i/conditionals  97.105.19.61   \n",
       "\n",
       "   cohort_id cohort_name cohort_start  cohort_end  program_id  \n",
       "0        8.0     Hampton   2015-09-22  2016-02-06         1.0  \n",
       "1        8.0     Hampton   2015-09-22  2016-02-06         1.0  \n",
       "2        8.0     Hampton   2015-09-22  2016-02-06         1.0  \n",
       "3        8.0     Hampton   2015-09-22  2016-02-06         1.0  \n",
       "4       22.0       Teddy   2018-01-08  2018-05-17         2.0  "
      ]
     },
     "execution_count": 3,
     "metadata": {},
     "output_type": "execute_result"
    }
   ],
   "source": [
    "import os\n",
    "file = 'curriculum_logs.csv'\n",
    "if os.path.isfile(file):\n",
    "    df = pd.read_csv(file, index_col=0)\n",
    "else:\n",
    "    df = pd.read_sql(sql,url)\n",
    "    df.to_csv(file)\n",
    "df.head()"
   ]
  },
  {
   "cell_type": "code",
   "execution_count": 4,
   "id": "48a025eb",
   "metadata": {},
   "outputs": [
    {
     "data": {
      "text/plain": [
       "(900223, 9)"
      ]
     },
     "execution_count": 4,
     "metadata": {},
     "output_type": "execute_result"
    }
   ],
   "source": [
    "df.shape"
   ]
  },
  {
   "cell_type": "code",
   "execution_count": 5,
   "id": "198945e6",
   "metadata": {},
   "outputs": [
    {
     "data": {
      "text/plain": [
       "347718"
      ]
     },
     "execution_count": 5,
     "metadata": {},
     "output_type": "execute_result"
    }
   ],
   "source": [
    "# check for dulicates\n",
    "df.duplicated().sum()"
   ]
  },
  {
   "cell_type": "code",
   "execution_count": 6,
   "id": "7076926f",
   "metadata": {},
   "outputs": [
    {
     "data": {
      "text/html": [
       "<div>\n",
       "<style scoped>\n",
       "    .dataframe tbody tr th:only-of-type {\n",
       "        vertical-align: middle;\n",
       "    }\n",
       "\n",
       "    .dataframe tbody tr th {\n",
       "        vertical-align: top;\n",
       "    }\n",
       "\n",
       "    .dataframe thead th {\n",
       "        text-align: right;\n",
       "    }\n",
       "</style>\n",
       "<table border=\"1\" class=\"dataframe\">\n",
       "  <thead>\n",
       "    <tr style=\"text-align: right;\">\n",
       "      <th></th>\n",
       "      <th>date</th>\n",
       "      <th>user_id</th>\n",
       "      <th>endpoint</th>\n",
       "      <th>source_ip</th>\n",
       "      <th>cohort_id</th>\n",
       "      <th>cohort_name</th>\n",
       "      <th>cohort_start</th>\n",
       "      <th>cohort_end</th>\n",
       "      <th>program_id</th>\n",
       "    </tr>\n",
       "  </thead>\n",
       "  <tbody>\n",
       "    <tr>\n",
       "      <th>4</th>\n",
       "      <td>2018-01-26</td>\n",
       "      <td>2</td>\n",
       "      <td>javascript-i/conditionals</td>\n",
       "      <td>97.105.19.61</td>\n",
       "      <td>22.0</td>\n",
       "      <td>Teddy</td>\n",
       "      <td>2018-01-08</td>\n",
       "      <td>2018-05-17</td>\n",
       "      <td>2.0</td>\n",
       "    </tr>\n",
       "    <tr>\n",
       "      <th>5</th>\n",
       "      <td>2018-01-26</td>\n",
       "      <td>2</td>\n",
       "      <td>javascript-i/loops</td>\n",
       "      <td>97.105.19.61</td>\n",
       "      <td>22.0</td>\n",
       "      <td>Teddy</td>\n",
       "      <td>2018-01-08</td>\n",
       "      <td>2018-05-17</td>\n",
       "      <td>2.0</td>\n",
       "    </tr>\n",
       "    <tr>\n",
       "      <th>7</th>\n",
       "      <td>2018-01-26</td>\n",
       "      <td>3</td>\n",
       "      <td>javascript-i/functions</td>\n",
       "      <td>97.105.19.61</td>\n",
       "      <td>22.0</td>\n",
       "      <td>Teddy</td>\n",
       "      <td>2018-01-08</td>\n",
       "      <td>2018-05-17</td>\n",
       "      <td>2.0</td>\n",
       "    </tr>\n",
       "    <tr>\n",
       "      <th>8</th>\n",
       "      <td>2018-01-26</td>\n",
       "      <td>2</td>\n",
       "      <td>javascript-i/loops</td>\n",
       "      <td>97.105.19.61</td>\n",
       "      <td>22.0</td>\n",
       "      <td>Teddy</td>\n",
       "      <td>2018-01-08</td>\n",
       "      <td>2018-05-17</td>\n",
       "      <td>2.0</td>\n",
       "    </tr>\n",
       "    <tr>\n",
       "      <th>9</th>\n",
       "      <td>2018-01-26</td>\n",
       "      <td>4</td>\n",
       "      <td>javascript-i/functions</td>\n",
       "      <td>97.105.19.61</td>\n",
       "      <td>22.0</td>\n",
       "      <td>Teddy</td>\n",
       "      <td>2018-01-08</td>\n",
       "      <td>2018-05-17</td>\n",
       "      <td>2.0</td>\n",
       "    </tr>\n",
       "  </tbody>\n",
       "</table>\n",
       "</div>"
      ],
      "text/plain": [
       "         date  user_id                   endpoint     source_ip  cohort_id  \\\n",
       "4  2018-01-26        2  javascript-i/conditionals  97.105.19.61       22.0   \n",
       "5  2018-01-26        2         javascript-i/loops  97.105.19.61       22.0   \n",
       "7  2018-01-26        3     javascript-i/functions  97.105.19.61       22.0   \n",
       "8  2018-01-26        2         javascript-i/loops  97.105.19.61       22.0   \n",
       "9  2018-01-26        4     javascript-i/functions  97.105.19.61       22.0   \n",
       "\n",
       "  cohort_name cohort_start  cohort_end  program_id  \n",
       "4       Teddy   2018-01-08  2018-05-17         2.0  \n",
       "5       Teddy   2018-01-08  2018-05-17         2.0  \n",
       "7       Teddy   2018-01-08  2018-05-17         2.0  \n",
       "8       Teddy   2018-01-08  2018-05-17         2.0  \n",
       "9       Teddy   2018-01-08  2018-05-17         2.0  "
      ]
     },
     "execution_count": 6,
     "metadata": {},
     "output_type": "execute_result"
    }
   ],
   "source": [
    "# look at duplicated rows\n",
    "df[df.duplicated(keep=False)].head() #looks like entries are doubled, going to keep first only"
   ]
  },
  {
   "cell_type": "code",
   "execution_count": 7,
   "id": "305c4749",
   "metadata": {},
   "outputs": [
    {
     "data": {
      "text/plain": [
       "(552505, 9)"
      ]
     },
     "execution_count": 7,
     "metadata": {},
     "output_type": "execute_result"
    }
   ],
   "source": [
    "# removing duplicate rows and show shape\n",
    "df = df.drop_duplicates(keep='first')\n",
    "df.shape"
   ]
  },
  {
   "cell_type": "code",
   "execution_count": 8,
   "id": "ab119534",
   "metadata": {},
   "outputs": [],
   "source": [
    "# replace blanks with\n",
    "df = df.replace('', np.nan)"
   ]
  },
  {
   "cell_type": "code",
   "execution_count": 9,
   "id": "23b5d152",
   "metadata": {},
   "outputs": [
    {
     "data": {
      "text/plain": [
       "date                0\n",
       "user_id             0\n",
       "endpoint            1\n",
       "source_ip           0\n",
       "cohort_id       32122\n",
       "cohort_name     32122\n",
       "cohort_start    32122\n",
       "cohort_end      32122\n",
       "program_id      32122\n",
       "dtype: int64"
      ]
     },
     "execution_count": 9,
     "metadata": {},
     "output_type": "execute_result"
    }
   ],
   "source": [
    "# check for nulls\n",
    "df.isna().sum()"
   ]
  },
  {
   "cell_type": "code",
   "execution_count": 15,
   "id": "87f68376",
   "metadata": {},
   "outputs": [
    {
     "data": {
      "text/html": [
       "<div>\n",
       "<style scoped>\n",
       "    .dataframe tbody tr th:only-of-type {\n",
       "        vertical-align: middle;\n",
       "    }\n",
       "\n",
       "    .dataframe tbody tr th {\n",
       "        vertical-align: top;\n",
       "    }\n",
       "\n",
       "    .dataframe thead th {\n",
       "        text-align: right;\n",
       "    }\n",
       "</style>\n",
       "<table border=\"1\" class=\"dataframe\">\n",
       "  <thead>\n",
       "    <tr style=\"text-align: right;\">\n",
       "      <th></th>\n",
       "      <th>date</th>\n",
       "      <th>user_id</th>\n",
       "      <th>endpoint</th>\n",
       "      <th>source_ip</th>\n",
       "      <th>cohort_id</th>\n",
       "      <th>cohort_name</th>\n",
       "      <th>cohort_start</th>\n",
       "      <th>cohort_end</th>\n",
       "      <th>program_id</th>\n",
       "    </tr>\n",
       "  </thead>\n",
       "  <tbody>\n",
       "    <tr>\n",
       "      <th>166284</th>\n",
       "      <td>2018-12-06</td>\n",
       "      <td>53</td>\n",
       "      <td>appendix/further-reading/java/intellij-tomcat-...</td>\n",
       "      <td>97.105.19.58</td>\n",
       "      <td>28.0</td>\n",
       "      <td>Staff</td>\n",
       "      <td>2014-02-04</td>\n",
       "      <td>2014-02-04</td>\n",
       "      <td>2.0</td>\n",
       "    </tr>\n",
       "    <tr>\n",
       "      <th>166294</th>\n",
       "      <td>2018-12-06</td>\n",
       "      <td>314</td>\n",
       "      <td>javascript-i</td>\n",
       "      <td>97.105.19.58</td>\n",
       "      <td>28.0</td>\n",
       "      <td>Staff</td>\n",
       "      <td>2014-02-04</td>\n",
       "      <td>2014-02-04</td>\n",
       "      <td>2.0</td>\n",
       "    </tr>\n",
       "    <tr>\n",
       "      <th>166295</th>\n",
       "      <td>2018-12-06</td>\n",
       "      <td>314</td>\n",
       "      <td>javascript-i/coffee-project</td>\n",
       "      <td>97.105.19.58</td>\n",
       "      <td>28.0</td>\n",
       "      <td>Staff</td>\n",
       "      <td>2014-02-04</td>\n",
       "      <td>2014-02-04</td>\n",
       "      <td>2.0</td>\n",
       "    </tr>\n",
       "    <tr>\n",
       "      <th>166521</th>\n",
       "      <td>2018-12-06</td>\n",
       "      <td>40</td>\n",
       "      <td>spring</td>\n",
       "      <td>170.248.173.247</td>\n",
       "      <td>28.0</td>\n",
       "      <td>Staff</td>\n",
       "      <td>2014-02-04</td>\n",
       "      <td>2014-02-04</td>\n",
       "      <td>2.0</td>\n",
       "    </tr>\n",
       "    <tr>\n",
       "      <th>166522</th>\n",
       "      <td>2018-12-06</td>\n",
       "      <td>40</td>\n",
       "      <td>spring/fundamentals/security</td>\n",
       "      <td>170.248.173.247</td>\n",
       "      <td>28.0</td>\n",
       "      <td>Staff</td>\n",
       "      <td>2014-02-04</td>\n",
       "      <td>2014-02-04</td>\n",
       "      <td>2.0</td>\n",
       "    </tr>\n",
       "    <tr>\n",
       "      <th>...</th>\n",
       "      <td>...</td>\n",
       "      <td>...</td>\n",
       "      <td>...</td>\n",
       "      <td>...</td>\n",
       "      <td>...</td>\n",
       "      <td>...</td>\n",
       "      <td>...</td>\n",
       "      <td>...</td>\n",
       "      <td>...</td>\n",
       "    </tr>\n",
       "    <tr>\n",
       "      <th>900214</th>\n",
       "      <td>2021-04-21</td>\n",
       "      <td>64</td>\n",
       "      <td>javascript-i</td>\n",
       "      <td>71.150.217.33</td>\n",
       "      <td>28.0</td>\n",
       "      <td>Staff</td>\n",
       "      <td>2014-02-04</td>\n",
       "      <td>2014-02-04</td>\n",
       "      <td>2.0</td>\n",
       "    </tr>\n",
       "    <tr>\n",
       "      <th>900216</th>\n",
       "      <td>2021-04-21</td>\n",
       "      <td>64</td>\n",
       "      <td>jquery</td>\n",
       "      <td>71.150.217.33</td>\n",
       "      <td>28.0</td>\n",
       "      <td>Staff</td>\n",
       "      <td>2014-02-04</td>\n",
       "      <td>2014-02-04</td>\n",
       "      <td>2.0</td>\n",
       "    </tr>\n",
       "    <tr>\n",
       "      <th>900218</th>\n",
       "      <td>2021-04-21</td>\n",
       "      <td>64</td>\n",
       "      <td>jquery/personal-site</td>\n",
       "      <td>71.150.217.33</td>\n",
       "      <td>28.0</td>\n",
       "      <td>Staff</td>\n",
       "      <td>2014-02-04</td>\n",
       "      <td>2014-02-04</td>\n",
       "      <td>2.0</td>\n",
       "    </tr>\n",
       "    <tr>\n",
       "      <th>900219</th>\n",
       "      <td>2021-04-21</td>\n",
       "      <td>64</td>\n",
       "      <td>jquery/mapbox-api</td>\n",
       "      <td>71.150.217.33</td>\n",
       "      <td>28.0</td>\n",
       "      <td>Staff</td>\n",
       "      <td>2014-02-04</td>\n",
       "      <td>2014-02-04</td>\n",
       "      <td>2.0</td>\n",
       "    </tr>\n",
       "    <tr>\n",
       "      <th>900220</th>\n",
       "      <td>2021-04-21</td>\n",
       "      <td>64</td>\n",
       "      <td>jquery/ajax/weather-map</td>\n",
       "      <td>71.150.217.33</td>\n",
       "      <td>28.0</td>\n",
       "      <td>Staff</td>\n",
       "      <td>2014-02-04</td>\n",
       "      <td>2014-02-04</td>\n",
       "      <td>2.0</td>\n",
       "    </tr>\n",
       "  </tbody>\n",
       "</table>\n",
       "<p>47367 rows × 9 columns</p>\n",
       "</div>"
      ],
      "text/plain": [
       "              date  user_id  \\\n",
       "166284  2018-12-06       53   \n",
       "166294  2018-12-06      314   \n",
       "166295  2018-12-06      314   \n",
       "166521  2018-12-06       40   \n",
       "166522  2018-12-06       40   \n",
       "...            ...      ...   \n",
       "900214  2021-04-21       64   \n",
       "900216  2021-04-21       64   \n",
       "900218  2021-04-21       64   \n",
       "900219  2021-04-21       64   \n",
       "900220  2021-04-21       64   \n",
       "\n",
       "                                                 endpoint        source_ip  \\\n",
       "166284  appendix/further-reading/java/intellij-tomcat-...     97.105.19.58   \n",
       "166294                                       javascript-i     97.105.19.58   \n",
       "166295                        javascript-i/coffee-project     97.105.19.58   \n",
       "166521                                             spring  170.248.173.247   \n",
       "166522                       spring/fundamentals/security  170.248.173.247   \n",
       "...                                                   ...              ...   \n",
       "900214                                       javascript-i    71.150.217.33   \n",
       "900216                                             jquery    71.150.217.33   \n",
       "900218                               jquery/personal-site    71.150.217.33   \n",
       "900219                                  jquery/mapbox-api    71.150.217.33   \n",
       "900220                            jquery/ajax/weather-map    71.150.217.33   \n",
       "\n",
       "        cohort_id cohort_name cohort_start  cohort_end  program_id  \n",
       "166284       28.0       Staff   2014-02-04  2014-02-04         2.0  \n",
       "166294       28.0       Staff   2014-02-04  2014-02-04         2.0  \n",
       "166295       28.0       Staff   2014-02-04  2014-02-04         2.0  \n",
       "166521       28.0       Staff   2014-02-04  2014-02-04         2.0  \n",
       "166522       28.0       Staff   2014-02-04  2014-02-04         2.0  \n",
       "...           ...         ...          ...         ...         ...  \n",
       "900214       28.0       Staff   2014-02-04  2014-02-04         2.0  \n",
       "900216       28.0       Staff   2014-02-04  2014-02-04         2.0  \n",
       "900218       28.0       Staff   2014-02-04  2014-02-04         2.0  \n",
       "900219       28.0       Staff   2014-02-04  2014-02-04         2.0  \n",
       "900220       28.0       Staff   2014-02-04  2014-02-04         2.0  \n",
       "\n",
       "[47367 rows x 9 columns]"
      ]
     },
     "execution_count": 15,
     "metadata": {},
     "output_type": "execute_result"
    }
   ],
   "source": [
    "df[df.cohort_name=='Staff']"
   ]
  },
  {
   "cell_type": "code",
   "execution_count": 14,
   "id": "b7447d11",
   "metadata": {},
   "outputs": [
    {
     "data": {
      "text/plain": [
       "array([nan], dtype=object)"
      ]
     },
     "execution_count": 14,
     "metadata": {},
     "output_type": "execute_result"
    }
   ],
   "source": [
    "df[df.isna()].cohort_name.unique()"
   ]
  },
  {
   "cell_type": "code",
   "execution_count": null,
   "id": "ce0d057a",
   "metadata": {},
   "outputs": [],
   "source": [
    "# drop nulls for now\n",
    "df = df.dropna()\n",
    "df.shape"
   ]
  },
  {
   "cell_type": "code",
   "execution_count": null,
   "id": "476f36f0",
   "metadata": {},
   "outputs": [],
   "source": [
    "df.head()"
   ]
  },
  {
   "cell_type": "markdown",
   "id": "35551bd8",
   "metadata": {},
   "source": [
    "## 1) Label Students by Program"
   ]
  },
  {
   "cell_type": "code",
   "execution_count": null,
   "id": "aa5f5cf0",
   "metadata": {},
   "outputs": [],
   "source": [
    "# how many program are there?\n",
    "df.program_id.value_counts()"
   ]
  },
  {
   "cell_type": "code",
   "execution_count": null,
   "id": "1944c8ac",
   "metadata": {},
   "outputs": [],
   "source": [
    "# look at program 2 since it's the largest\n",
    "list(df[df.program_id==2].cohort_name.unique())"
   ]
  },
  {
   "cell_type": "code",
   "execution_count": null,
   "id": "931c1bf3",
   "metadata": {},
   "outputs": [],
   "source": [
    "# look at program 2 since it's the largest\n",
    "list(df[df.program_id==3].cohort_name.unique()) # looks like data science students"
   ]
  },
  {
   "cell_type": "code",
   "execution_count": null,
   "id": "5a17fa0f",
   "metadata": {},
   "outputs": [],
   "source": [
    "# look at program 2 since it's the largest\n",
    "list(df[df.program_id==1].cohort_name.unique())"
   ]
  },
  {
   "cell_type": "code",
   "execution_count": null,
   "id": "54558d20",
   "metadata": {},
   "outputs": [],
   "source": [
    "# look at program 2 since it's the largest\n",
    "list(df[df.program_id==4].cohort_name.unique())"
   ]
  },
  {
   "cell_type": "code",
   "execution_count": null,
   "id": "b9729a69",
   "metadata": {},
   "outputs": [],
   "source": [
    "# df subset by program_id, check paths to confirm its data science\n",
    "df[df.program_id==3].endpoint.value_counts(normalize=True) # comfirms program_2 is data science"
   ]
  },
  {
   "cell_type": "code",
   "execution_count": null,
   "id": "840ef2d0",
   "metadata": {},
   "outputs": [],
   "source": [
    "# df subset by program_id, check path info for instruction type\n",
    "df[df.program_id==2].endpoint.value_counts(normalize=True) # seems to be java related to 'web dev'"
   ]
  },
  {
   "cell_type": "code",
   "execution_count": null,
   "id": "6f68a676",
   "metadata": {},
   "outputs": [],
   "source": [
    "# df subset by program_id, check path for instruction type\n",
    "df[df.program_id==1].endpoint.value_counts(normalize=True) # seems to be java, html, nlp, dataset, mix of things. maybe for staff"
   ]
  },
  {
   "cell_type": "code",
   "execution_count": null,
   "id": "59e4b640",
   "metadata": {},
   "outputs": [],
   "source": [
    "# investigate program_id 1 further\n",
    "df[df.program_id==1].groupby('endpoint').date.count().sort_values(ascending=False).head(30) #mostly jaba so 'web dev'"
   ]
  },
  {
   "cell_type": "code",
   "execution_count": null,
   "id": "6fa02386",
   "metadata": {},
   "outputs": [],
   "source": [
    "# df subset by program_id, check paths to confirm its data science\n",
    "df[df.program_id==4].endpoint.value_counts(normalize=True) # seemto be html so 'web dev'"
   ]
  },
  {
   "cell_type": "markdown",
   "id": "36a7e916",
   "metadata": {},
   "source": [
    "### program 3 is data science\n",
    "### all others are web dev"
   ]
  },
  {
   "cell_type": "code",
   "execution_count": null,
   "id": "5f9a50ad",
   "metadata": {},
   "outputs": [],
   "source": [
    "df['program_name'] = np.where(df.program_id==3,'data_science', 'web_dev')\n",
    "df.head()"
   ]
  },
  {
   "cell_type": "markdown",
   "id": "8e99430a",
   "metadata": {},
   "source": [
    "## 2) Is it possible to identify the user_id of a staff member?"
   ]
  },
  {
   "cell_type": "code",
   "execution_count": null,
   "id": "dd3d138a",
   "metadata": {},
   "outputs": [],
   "source": [
    "# find null for cohort_id"
   ]
  },
  {
   "cell_type": "code",
   "execution_count": null,
   "id": "c8f17e15",
   "metadata": {},
   "outputs": [],
   "source": [
    "df[df.cohort_name=='Staff'].groupby('user_id').count()"
   ]
  },
  {
   "cell_type": "markdown",
   "id": "e81f9279",
   "metadata": {},
   "source": [
    "## 3) Identify students who are accessing our curriculum pages beyond the end of their time at Codeup."
   ]
  },
  {
   "cell_type": "code",
   "execution_count": null,
   "id": "3d1b00a6",
   "metadata": {},
   "outputs": [],
   "source": [
    "df.head()"
   ]
  },
  {
   "cell_type": "code",
   "execution_count": null,
   "id": "a54ef122",
   "metadata": {},
   "outputs": [],
   "source": [
    "df.date = pd.to_datetime(df.date)\n",
    "df.dtypes"
   ]
  },
  {
   "cell_type": "code",
   "execution_count": null,
   "id": "a44de5f9",
   "metadata": {},
   "outputs": [],
   "source": [
    "df = df.set_index(df.date)\n",
    "df.head()"
   ]
  },
  {
   "cell_type": "code",
   "execution_count": null,
   "id": "07b09894",
   "metadata": {},
   "outputs": [],
   "source": [
    "df[df.index > df.cohort_end].user_id.unique()"
   ]
  },
  {
   "cell_type": "markdown",
   "id": "8f2851da",
   "metadata": {},
   "source": [
    "## 4) Identify students who present anomalous activity using the Bollinger Band method, but reduce K to 2."
   ]
  },
  {
   "cell_type": "code",
   "execution_count": null,
   "id": "777ad42a",
   "metadata": {},
   "outputs": [],
   "source": [
    "pages = df['endpoint'].resample('d').count()\n",
    "pages.head()"
   ]
  },
  {
   "cell_type": "code",
   "execution_count": null,
   "id": "369b22db",
   "metadata": {},
   "outputs": [],
   "source": [
    "pages.shape"
   ]
  },
  {
   "cell_type": "code",
   "execution_count": null,
   "id": "4794579a",
   "metadata": {},
   "outputs": [],
   "source": [
    "pages.plot()"
   ]
  },
  {
   "cell_type": "code",
   "execution_count": null,
   "id": "e7913e89",
   "metadata": {},
   "outputs": [],
   "source": [
    "ema_7d = pages.ewm(span=7)\n",
    "ema_7d"
   ]
  },
  {
   "cell_type": "code",
   "execution_count": null,
   "id": "dbae202c",
   "metadata": {},
   "outputs": [],
   "source": [
    "# 7 day EMA\n",
    "ema_7d = pages.ewm(span=7).mean()\n",
    "ema_7d"
   ]
  },
  {
   "cell_type": "code",
   "execution_count": null,
   "id": "179c288a",
   "metadata": {},
   "outputs": [],
   "source": [
    "# the first ema is the first value of df so confirm by making them ==\n",
    "ema_7d[0] == pages[0]"
   ]
  },
  {
   "cell_type": "code",
   "execution_count": null,
   "id": "c79e33ac",
   "metadata": {},
   "outputs": [],
   "source": [
    "# 14 day EMA\n",
    "ema_14d = pages.ewm(span=14).mean()\n",
    "ema_14d"
   ]
  },
  {
   "cell_type": "code",
   "execution_count": null,
   "id": "bf0b15ca",
   "metadata": {},
   "outputs": [],
   "source": [
    "# 30 day EMA\n",
    "ema_30d = pages.ewm(span=30).mean()\n",
    "ema_30d"
   ]
  },
  {
   "cell_type": "code",
   "execution_count": null,
   "id": "fcc8e2aa",
   "metadata": {},
   "outputs": [],
   "source": [
    "# 90 day EMA\n",
    "ema_90d = pages.ewm(span=90).mean()\n",
    "ema_90d"
   ]
  },
  {
   "cell_type": "code",
   "execution_count": null,
   "id": "56ba042c",
   "metadata": {},
   "outputs": [],
   "source": [
    "fig, ax = plt.subplots(figsize=(16,8))\n",
    "\n",
    "ax.plot(pages.index, pages, label='Daily', alpha=.5)\n",
    "\n",
    "ax.plot(pages.index, ema_7d, label='7 day EMA')\n",
    "ax.plot(pages.index, ema_14d, label='14 day EMA')\n",
    "ax.plot(pages.index, ema_30d, label='30 day EMA')\n",
    "ax.plot(pages.index, ema_90d, label='60 day EMA')"
   ]
  },
  {
   "cell_type": "code",
   "execution_count": null,
   "id": "c127b7b6",
   "metadata": {},
   "outputs": [],
   "source": [
    "# create Bollinger Bandds midband\n",
    "\n",
    "# set the window span\n",
    "span = 30\n",
    "\n",
    "# compute midband\n",
    "midband = pages.ewm(span=span).mean()\n",
    "\n",
    "midband.head()"
   ]
  },
  {
   "cell_type": "code",
   "execution_count": null,
   "id": "76664c45",
   "metadata": {},
   "outputs": [],
   "source": [
    "# compute exponential stdev\n",
    "stdev = pages.ewm(span=span).std()\n",
    "stdev.head()"
   ]
  },
  {
   "cell_type": "code",
   "execution_count": null,
   "id": "fb96e864",
   "metadata": {},
   "outputs": [],
   "source": [
    "# compute upper and lower bands with K=2\n",
    "ub = midband + stdev*2\n",
    "lb = midband - stdev*2\n",
    "ub, lb"
   ]
  },
  {
   "cell_type": "code",
   "execution_count": null,
   "id": "7c5d6224",
   "metadata": {},
   "outputs": [],
   "source": [
    "# concatenate ub and lb together into one df, bb\n",
    "bb = pd.concat([ub, lb], axis=1)\n",
    "bb.head()"
   ]
  },
  {
   "cell_type": "code",
   "execution_count": null,
   "id": "ccc10661",
   "metadata": {},
   "outputs": [],
   "source": [
    "bb.columns = ['ub', 'lb']\n",
    "bb.head()"
   ]
  },
  {
   "cell_type": "code",
   "execution_count": null,
   "id": "ead62c99",
   "metadata": {},
   "outputs": [],
   "source": [
    "my_df = pd.concat([pages, midband, bb], axis=1)\n",
    "my_df "
   ]
  },
  {
   "cell_type": "code",
   "execution_count": null,
   "id": "24db3435",
   "metadata": {},
   "outputs": [],
   "source": [
    "my_df.columns = ['pages', 'midband', 'ub', 'lb']\n",
    "my_df.head()"
   ]
  },
  {
   "cell_type": "code",
   "execution_count": null,
   "id": "cb265335",
   "metadata": {},
   "outputs": [],
   "source": [
    "fig, ax = plt.subplots(figsize=(12,8))\n",
    "\n",
    "ax.plot(my_df.index, my_df.pages, label='Number of Pages')\n",
    "\n",
    "ax.plot(my_df.index, my_df.midband, label = '30-day EMA/midband')\n",
    "ax.plot(my_df.index, my_df.ub, label = 'Upper Band')\n",
    "ax.plot(my_df.index, my_df.lb, label = 'Lower Band')\n",
    "\n",
    "ax.legend(loc='best')\n",
    "ax.set_ylabel('Number of pages')\n",
    "\n",
    "plt.show()"
   ]
  },
  {
   "cell_type": "code",
   "execution_count": null,
   "id": "26d8d590",
   "metadata": {},
   "outputs": [],
   "source": [
    "# create column %b for each pages values. No value for first observation\n",
    "my_df['pct_b'] = (my_df['pages'] - my_df['lb'])/(my_df['ub'] - my_df['lb'])\n",
    "\n",
    "my_df.head()"
   ]
  },
  {
   "cell_type": "code",
   "execution_count": null,
   "id": "65a6bb74",
   "metadata": {},
   "outputs": [],
   "source": [
    "# find anomolies by filtering for %b above 1\n",
    "my_df[my_df['pct_b']>1]"
   ]
  },
  {
   "cell_type": "code",
   "execution_count": null,
   "id": "24948d1c",
   "metadata": {},
   "outputs": [],
   "source": [
    "# create df for one user\n",
    "df.head()"
   ]
  },
  {
   "cell_type": "code",
   "execution_count": null,
   "id": "515e788a",
   "metadata": {},
   "outputs": [],
   "source": [
    "user = 1\n",
    "span = 30"
   ]
  },
  {
   "cell_type": "code",
   "execution_count": null,
   "id": "620cce13",
   "metadata": {},
   "outputs": [],
   "source": [
    "# create df for single user\n",
    "df = df[df.user_id == user]\n",
    "df.head()"
   ]
  },
  {
   "cell_type": "code",
   "execution_count": null,
   "id": "c1f183ae",
   "metadata": {},
   "outputs": [],
   "source": [
    "# resample df.path daily and count to find how many hits for path\n",
    "pages_one_user = df['endpoint'].resample('d').count()\n",
    "pages_one_user.head()"
   ]
  },
  {
   "cell_type": "code",
   "execution_count": null,
   "id": "f0a3e81f",
   "metadata": {},
   "outputs": [],
   "source": [
    "# Calculate upper and lower bollinger band and midband\n",
    "weight = 2\n",
    "midband = pages_one_user.ewm(span=span).mean()\n",
    "stdev = pages_one_user.ewm(span=span).std()\n",
    "ub = midband + stdev*weight\n",
    "lb = midband - stdev*weight\n",
    "ub, lb, midband"
   ]
  },
  {
   "cell_type": "code",
   "execution_count": null,
   "id": "397c3530",
   "metadata": {},
   "outputs": [],
   "source": [
    "# Add upper and lower band values to dataframe\n",
    "bb = pd.concat([ub, lb], axis=1)\n",
    "bb.head()"
   ]
  },
  {
   "cell_type": "code",
   "execution_count": null,
   "id": "42634b7e",
   "metadata": {},
   "outputs": [],
   "source": [
    "# Combine all data into a single dataframe\n",
    "my_df = pd.concat([pages_one_user, midband, bb], axis=1)\n",
    "my_df.head()"
   ]
  },
  {
   "cell_type": "code",
   "execution_count": null,
   "id": "9713dfea",
   "metadata": {},
   "outputs": [],
   "source": [
    "my_df.columns = ['pages_one_user', 'midband', 'ub', 'lb']\n",
    "my_df.head()"
   ]
  },
  {
   "cell_type": "code",
   "execution_count": null,
   "id": "9d62f0c0",
   "metadata": {},
   "outputs": [],
   "source": [
    "# Calculate percent b and relevant user id to dataframe\n",
    "my_df['pct_b'] = (my_df['pages_one_user'] - my_df['lb'])/(my_df['ub'] - my_df['lb'])\n",
    "my_df.head()"
   ]
  },
  {
   "cell_type": "code",
   "execution_count": null,
   "id": "247f38c8",
   "metadata": {},
   "outputs": [],
   "source": [
    "my_df['user_id'] = user\n",
    "my_df.head()"
   ]
  },
  {
   "cell_type": "code",
   "execution_count": null,
   "id": "7ee52a4f",
   "metadata": {},
   "outputs": [],
   "source": [
    "my_df[my_df.pct_b>1]"
   ]
  },
  {
   "cell_type": "markdown",
   "id": "7aa803aa",
   "metadata": {},
   "source": [
    "## Makes Functions"
   ]
  },
  {
   "cell_type": "code",
   "execution_count": null,
   "id": "5dc0a8de",
   "metadata": {},
   "outputs": [],
   "source": [
    "def acquire_logs(user=env.user, password=env.password, host=env.host):\n",
    "    '''\n",
    "    This function uses env creditial to pull tables cohort and logs from database curriculum_logs.\n",
    "    It read from a csv file if it exist or pull from the server and then write to a csv vile.\n",
    "    '''\n",
    "    \n",
    "    # read from file if it exist \n",
    "    import os\n",
    "    file = 'curriculum_logs.csv'\n",
    "    if os.path.isfile(file):\n",
    "        df = pd.read_csv(file, index_col=0)\n",
    "    # or read from sql server and write to csv file\n",
    "    else:\n",
    "        url = f'mysql+pymysql://{env.user}:{env.password}@{env.host}/curriculum_logs'\n",
    "        sql = '''\n",
    "        SELECT logs.date,\n",
    "        logs.user_id, \n",
    "        logs.path as endpoint, \n",
    "        logs.ip as source_ip,\n",
    "        logs.cohort_id, \n",
    "        cohorts.name as cohort_name, \n",
    "        cohorts.start_date as cohort_start,\n",
    "        cohorts.end_date as cohort_end, \n",
    "        cohorts.program_id\n",
    "        FROM logs\n",
    "        LEFT JOIN cohorts on cohorts.id=logs.cohort_id\n",
    "        '''\n",
    "        \n",
    "        # read from sql server and create dataframe\n",
    "        df = pd.read_sql(sql,url)\n",
    "        \n",
    "#         # add column that names program_id == 3 as 'data_science' and others as 'web_dev'\n",
    "#         df['program_name'] = np.where(df.program_id == '3', 'data_science', 'web_dev')\n",
    "        \n",
    "#         # add column that identified logs observations that were created after cohort grad date\n",
    "#         df['accessed_after_grad'] = np.where(df.index > df.cohort_end, 'yes', 'no')        \n",
    "\n",
    "        # write df to csv file\n",
    "        df.to_csv(file)\n",
    "    return df\n",
    "\n",
    "def one_user_df_prep(df, user):\n",
    "    '''\n",
    "    This function returns a dataframe consisting of data for only a single defined user\n",
    "    '''\n",
    "    df = df[df.user_id == user]\n",
    "    df.date = pd.to_datetime(df.date)\n",
    "    df = df.set_index(df.date)\n",
    "    pages_one_user = df['endpoint'].resample('d').count()\n",
    "    return pages_one_user\n",
    "\n",
    "def compute_pct_b(pages_one_user, span, weight, user):\n",
    "    '''\n",
    "    This function adds the %b of a bollinger band range for the page views of a single user's log activity\n",
    "    '''\n",
    "    # Calculate upper and lower bollinger band\n",
    "    midband = pages_one_user.ewm(span=span).mean()\n",
    "    stdev = pages_one_user.ewm(span=span).std()\n",
    "    ub = midband + stdev*weight\n",
    "    lb = midband - stdev*weight\n",
    "    \n",
    "    # Add upper and lower band values to dataframe\n",
    "    bb = pd.concat([ub, lb], axis=1)\n",
    "    \n",
    "    # Combine all data into a single dataframe\n",
    "    my_df = pd.concat([pages_one_user, midband, bb], axis=1)\n",
    "    my_df.columns = ['pages_one_user', 'midband', 'ub', 'lb']\n",
    "    \n",
    "    # Calculate percent b and relevant user id to dataframe\n",
    "    my_df['pct_b'] = (my_df['pages_one_user'] - my_df['lb'])/(my_df['ub'] - my_df['lb'])\n",
    "    my_df['user_id'] = user\n",
    "    return my_df\n",
    "\n",
    "def plot_bands(my_df, user):\n",
    "    '''\n",
    "    This function plots the bolliger bands of the page views for a single user\n",
    "    '''\n",
    "    fig, ax = plt.subplots(figsize=(12,8))\n",
    "    ax.plot(my_df.index, my_df.pages_one_user, label='Number of Pages, User: '+str(user))\n",
    "    ax.plot(my_df.index, my_df.midband, label = 'EMA/midband')\n",
    "    ax.plot(my_df.index, my_df.ub, label = 'Upper Band')\n",
    "    ax.plot(my_df.index, my_df.lb, label = 'Lower Band')\n",
    "    ax.legend(loc='best')\n",
    "    ax.set_ylabel('Number of Pages')\n",
    "    plt.show()\n",
    "\n",
    "def find_anomalies(df, user, span, weight, plot=False):\n",
    "    '''\n",
    "    This function returns the records where a user's daily activity exceeded the upper limit of a bollinger band range\n",
    "    '''\n",
    "    \n",
    "    # Reduce dataframe to represent a single user\n",
    "    pages_one_user = one_user_df_prep(df, user)\n",
    "    \n",
    "    # Add bollinger band data to dataframe\n",
    "    my_df = compute_pct_b(pages_one_user, span, weight, user)\n",
    "    \n",
    "    # Plot data if requested (plot=True)\n",
    "    if plot:\n",
    "        plot_bands(my_df, user)\n",
    "    \n",
    "    # Return only records that sit outside of bollinger band upper limit\n",
    "    return my_df[my_df.pct_b>1]"
   ]
  },
  {
   "cell_type": "code",
   "execution_count": null,
   "id": "64a96c57",
   "metadata": {},
   "outputs": [],
   "source": [
    "df = acquire_logs()\n",
    "df.head()"
   ]
  },
  {
   "cell_type": "code",
   "execution_count": null,
   "id": "ee222858",
   "metadata": {},
   "outputs": [],
   "source": [
    "user = 1\n",
    "span = 30\n",
    "weight = 2\n",
    "user_df = find_anomalies(df, user, span, weight)\n",
    "\n",
    "anomalies = pd.DataFrame()\n",
    "user_df = find_anomalies(df, user, span, weight)\n",
    "anomalies = pd.concat([anomalies, user_df], axis=0)"
   ]
  },
  {
   "cell_type": "code",
   "execution_count": null,
   "id": "6bc29ce8",
   "metadata": {},
   "outputs": [],
   "source": [
    "anomalies.head()"
   ]
  },
  {
   "cell_type": "code",
   "execution_count": null,
   "id": "0fa4e4d9",
   "metadata": {},
   "outputs": [],
   "source": [
    "span = 30\n",
    "weight = 2\n",
    "\n",
    "anomalies = pd.DataFrame()\n",
    "for u in list(df.user_id.unique()):\n",
    "    user_df = find_anomalies(df, u, span, weight)\n",
    "    anomalies = pd.concat([anomalies, user_df], axis=0)"
   ]
  },
  {
   "cell_type": "code",
   "execution_count": null,
   "id": "3168ff17",
   "metadata": {},
   "outputs": [],
   "source": [
    "anomalies.sort_values(by='pct_b', ascending=False)"
   ]
  },
  {
   "cell_type": "code",
   "execution_count": null,
   "id": "316b6dc7",
   "metadata": {},
   "outputs": [],
   "source": [
    "anomalies.sort_values(by='pages_one_user', ascending=False)"
   ]
  },
  {
   "cell_type": "code",
   "execution_count": null,
   "id": "c37c27fa",
   "metadata": {},
   "outputs": [],
   "source": [
    "anomalies.user_id.value_counts()"
   ]
  },
  {
   "cell_type": "markdown",
   "id": "f6b41a93",
   "metadata": {},
   "source": [
    "## 5) Plot the access activity of these students.\n",
    "- Find iterative plotting technique"
   ]
  },
  {
   "cell_type": "code",
   "execution_count": null,
   "id": "6a95326e",
   "metadata": {},
   "outputs": [],
   "source": [
    "# plot by page_one_user count\n",
    "df_11 = one_user_df_prep(df, 11)\n",
    "df_11.plot(figsize=(16,8))"
   ]
  },
  {
   "cell_type": "code",
   "execution_count": null,
   "id": "fd645f12",
   "metadata": {},
   "outputs": [],
   "source": [
    "# plot by user_id count \n",
    "df_64 = one_user_df_prep(df, 64)\n",
    "df_64.plot(figsize=(16,8))"
   ]
  },
  {
   "cell_type": "markdown",
   "id": "476c5a92",
   "metadata": {},
   "source": [
    "## **BONUS:** Identify users who are viewing both the web dev and data science curriculum "
   ]
  },
  {
   "cell_type": "code",
   "execution_count": null,
   "id": "88be12fb",
   "metadata": {},
   "outputs": [],
   "source": [
    "df.head()"
   ]
  },
  {
   "cell_type": "code",
   "execution_count": null,
   "id": "a3174949",
   "metadata": {},
   "outputs": [],
   "source": [
    "# create column program_name that maps to program_id\n",
    "df['program_name'] = np.where(df.program_id==3,'data_science', 'web_dev')\n",
    "df.head()"
   ]
  },
  {
   "cell_type": "code",
   "execution_count": null,
   "id": "5c57eb53",
   "metadata": {},
   "outputs": [],
   "source": [
    "# find data science students that have logs for web deb pages\n",
    "# subset df to data_science only\n",
    "df_data_science = df[df.program_name=='data_science']\n",
    "df_data_science.head()"
   ]
  },
  {
   "cell_type": "code",
   "execution_count": null,
   "id": "a83ca17d",
   "metadata": {},
   "outputs": [],
   "source": [
    "# find data science student endpoints that contain java or html\n",
    "df_data_science.endpoint.str.contains(pat = 'html|java', case=False, regex=True).sum() # Too few to continue"
   ]
  },
  {
   "cell_type": "code",
   "execution_count": null,
   "id": "f9b52a3b",
   "metadata": {},
   "outputs": [],
   "source": [
    "# make list of data science endpoints\n",
    "ds_endpoints = df_data_science.endpoint.unique()\n",
    "ds_endpoints = pd.Series(ds_endpoints)\n",
    "ds_endpoints"
   ]
  },
  {
   "cell_type": "code",
   "execution_count": null,
   "id": "7223a79c",
   "metadata": {},
   "outputs": [],
   "source": [
    "ds_endpoints.str.contains('java|html', case=False, regex=True)"
   ]
  },
  {
   "cell_type": "code",
   "execution_count": null,
   "id": "064eab02",
   "metadata": {},
   "outputs": [],
   "source": [
    "# find web dev students with endpoints of data science endpoints\n",
    "df_web_dev = df[df.program_name=='web_dev']\n",
    "df_web_dev.head()"
   ]
  },
  {
   "cell_type": "code",
   "execution_count": null,
   "id": "89d2b1af",
   "metadata": {},
   "outputs": [],
   "source": [
    "df_web_dev[df_web_dev.endpoint.isin(ds_endpoints)] # 234K observation of web dev have "
   ]
  },
  {
   "cell_type": "code",
   "execution_count": null,
   "id": "eb7acf0c",
   "metadata": {},
   "outputs": [],
   "source": []
  },
  {
   "cell_type": "code",
   "execution_count": null,
   "id": "c722fae1",
   "metadata": {},
   "outputs": [],
   "source": []
  },
  {
   "cell_type": "code",
   "execution_count": null,
   "id": "6451642e",
   "metadata": {},
   "outputs": [],
   "source": []
  },
  {
   "cell_type": "code",
   "execution_count": null,
   "id": "a2441942",
   "metadata": {},
   "outputs": [],
   "source": []
  }
 ],
 "metadata": {
  "kernelspec": {
   "display_name": "Python 3",
   "language": "python",
   "name": "python3"
  },
  "language_info": {
   "codemirror_mode": {
    "name": "ipython",
    "version": 3
   },
   "file_extension": ".py",
   "mimetype": "text/x-python",
   "name": "python",
   "nbconvert_exporter": "python",
   "pygments_lexer": "ipython3",
   "version": "3.8.8"
  }
 },
 "nbformat": 4,
 "nbformat_minor": 5
}
